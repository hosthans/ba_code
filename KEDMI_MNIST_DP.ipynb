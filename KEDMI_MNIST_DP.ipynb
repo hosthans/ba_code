{
 "cells": [
  {
   "cell_type": "code",
   "execution_count": 7,
   "metadata": {},
   "outputs": [],
   "source": [
    "from kedmi.models.generator import *\n",
    "from kedmi.models.discri import *\n",
    "from kedmi.utils.helper import *\n",
    "import torch\n",
    "import os\n",
    "import numpy as np\n",
    "from kedmi.utils.kedmi_attack import mnist_inversion, dist_inversion"
   ]
  },
  {
   "cell_type": "markdown",
   "metadata": {},
   "source": [
    "### load specified configuration and specify environment variables"
   ]
  },
  {
   "cell_type": "code",
   "execution_count": 8,
   "metadata": {},
   "outputs": [],
   "source": [
    "CONFIG_PATH = \"config/kedmi/config/celeba/attacking/mnist_dp.json\"\n",
    "configuration = load_json(json_file=CONFIG_PATH)\n",
    "\n",
    "save_folder = os.path.join(\n",
    "    f\"{configuration['dataset']['name']}_{configuration['dataset']['model_name']}\",\n",
    "    configuration[\"attack\"][\"variant\"],\n",
    ")\n",
    "prefix = os.path.join(\n",
    "    os.path.join(configuration[\"root_path\"], \"kedmi_300ids\"), save_folder\n",
    ")\n",
    "save_dir = os.path.join(prefix, \"latent\")\n",
    "save_img_dir = os.path.join(\n",
    "    prefix, \"imgs_{}\".format(configuration[\"attack\"][\"variant\"])\n",
    ")\n",
    "\n",
    "os.makedirs(prefix, exist_ok=True)\n",
    "os.makedirs(save_img_dir, exist_ok=True)\n",
    "os.makedirs(save_dir, exist_ok=True)\n",
    "os.makedirs(configuration[\"dataset\"][\"p_reg_path\"], exist_ok=True)"
   ]
  },
  {
   "cell_type": "markdown",
   "metadata": {},
   "source": [
    "### load trained models"
   ]
  },
  {
   "cell_type": "code",
   "execution_count": 9,
   "metadata": {},
   "outputs": [
    {
     "name": "stdout",
     "output_type": "stream",
     "text": [
      "['VGG16dp', 'VGG16dp']\n",
      "Load MNIST_GAN\n",
      "path_G checkpoints/gan/Generatormnist.tar\n",
      "path_D checkpoints/gan/Discriminatormnist.tar\n",
      "0\n",
      "VGG16dp\n",
      "Load classifier VGG16dp at checkpoints/VGG16/dp_VGG16mnist.tar\n",
      "1\n",
      "VGG16dp\n",
      "Load classifier VGG16dp at checkpoints/VGG16/dp_VGG16mnist.tar\n"
     ]
    }
   ],
   "source": [
    "targetnets, E, G, D, n_classes, fea_mean, fea_logvar = get_attack_model(configuration)"
   ]
  },
  {
   "cell_type": "markdown",
   "metadata": {},
   "source": [
    "### set necessary params"
   ]
  },
  {
   "cell_type": "code",
   "execution_count": 10,
   "metadata": {},
   "outputs": [
    {
     "name": "stdout",
     "output_type": "stream",
     "text": [
      "DataParallel(\n",
      "  (module): DGWGAN_MNIST(\n",
      "    (ls): Sequential(\n",
      "      (0): Conv2d(1, 64, kernel_size=(5, 5), stride=(2, 2), padding=(2, 2))\n",
      "      (1): LeakyReLU(negative_slope=0.2)\n",
      "      (2): Sequential(\n",
      "        (0): Conv2d(64, 128, kernel_size=(5, 5), stride=(2, 2), padding=(2, 2))\n",
      "        (1): InstanceNorm2d(128, eps=1e-05, momentum=0.1, affine=True, track_running_stats=False)\n",
      "        (2): LeakyReLU(negative_slope=0.2)\n",
      "      )\n",
      "      (3): Sequential(\n",
      "        (0): Conv2d(128, 256, kernel_size=(5, 5), stride=(2, 2), padding=(2, 2))\n",
      "        (1): InstanceNorm2d(256, eps=1e-05, momentum=0.1, affine=True, track_running_stats=False)\n",
      "        (2): LeakyReLU(negative_slope=0.2)\n",
      "      )\n",
      "      (4): Sequential(\n",
      "        (0): Conv2d(256, 512, kernel_size=(5, 5), stride=(2, 2), padding=(2, 2))\n",
      "        (1): InstanceNorm2d(512, eps=1e-05, momentum=0.1, affine=True, track_running_stats=False)\n",
      "        (2): LeakyReLU(negative_slope=0.2)\n",
      "      )\n",
      "      (5): Conv2d(512, 1, kernel_size=(4, 4), stride=(1, 1))\n",
      "    )\n",
      "  )\n",
      ")\n"
     ]
    }
   ],
   "source": [
    "print(D)"
   ]
  },
  {
   "cell_type": "code",
   "execution_count": 11,
   "metadata": {},
   "outputs": [],
   "source": [
    "N = 5\n",
    "bs = 60"
   ]
  },
  {
   "cell_type": "markdown",
   "metadata": {},
   "source": [
    "### Run attack"
   ]
  },
  {
   "cell_type": "code",
   "execution_count": 12,
   "metadata": {},
   "outputs": [
    {
     "name": "stdout",
     "output_type": "stream",
     "text": [
      "--------------------- Attack batch [0]------------------------------\n",
      "Iden:tensor([0, 1, 2, 3, 4, 5, 6, 7, 8, 9, 0, 1, 2, 3, 4, 5, 6, 7, 8, 9, 0, 1, 2, 3,\n",
      "        4, 5, 6, 7, 8, 9, 0, 1, 2, 3, 4, 5, 6, 7, 8, 9, 0, 1, 2, 3, 4, 5, 6, 7,\n",
      "        8, 9, 0, 1, 2, 3, 4, 5, 6, 7, 8, 9])\n",
      "kedmi\n",
      "criterion:logit_loss\n"
     ]
    },
    {
     "name": "stderr",
     "output_type": "stream",
     "text": [
      "/home/bot/.local/lib/python3.10/site-packages/torch/nn/parallel/comm.py:227: UserWarning: Using -1 to represent CPU tensor is deprecated. Please use a device object or string instead, e.g., \"cpu\".\n",
      "  warnings.warn(\n"
     ]
    },
    {
     "name": "stdout",
     "output_type": "stream",
     "text": [
      "Iteration:300\tPrior Loss:22.50\tIden Loss:-0.05\tAttack Acc:3.33\n",
      "Iteration:600\tPrior Loss:21.03\tIden Loss:-0.07\tAttack Acc:15.00\n",
      "Iteration:900\tPrior Loss:19.34\tIden Loss:-0.10\tAttack Acc:10.00\n",
      "Iteration:1200\tPrior Loss:18.99\tIden Loss:-0.11\tAttack Acc:13.33\n",
      "Iteration:1500\tPrior Loss:16.96\tIden Loss:-0.12\tAttack Acc:15.00\n",
      "Iteration:1800\tPrior Loss:16.27\tIden Loss:-0.13\tAttack Acc:10.00\n",
      "Iteration:2100\tPrior Loss:15.31\tIden Loss:-0.14\tAttack Acc:18.33\n",
      "Iteration:2400\tPrior Loss:14.61\tIden Loss:-0.15\tAttack Acc:11.67\n",
      "Gesamtzeit für 2400 Iterationen: 280.62 Sekunden\n",
      "--------------------- Attack batch [1]------------------------------\n",
      "Iden:tensor([0, 1, 2, 3, 4, 5, 6, 7, 8, 9, 0, 1, 2, 3, 4, 5, 6, 7, 8, 9, 0, 1, 2, 3,\n",
      "        4, 5, 6, 7, 8, 9, 0, 1, 2, 3, 4, 5, 6, 7, 8, 9, 0, 1, 2, 3, 4, 5, 6, 7,\n",
      "        8, 9, 0, 1, 2, 3, 4, 5, 6, 7, 8, 9])\n",
      "kedmi\n",
      "criterion:logit_loss\n",
      "Iteration:300\tPrior Loss:22.92\tIden Loss:-0.06\tAttack Acc:10.00\n",
      "Iteration:600\tPrior Loss:21.44\tIden Loss:-0.08\tAttack Acc:10.00\n",
      "Iteration:900\tPrior Loss:19.70\tIden Loss:-0.09\tAttack Acc:11.67\n",
      "Iteration:1200\tPrior Loss:18.63\tIden Loss:-0.11\tAttack Acc:11.67\n",
      "Iteration:1500\tPrior Loss:16.51\tIden Loss:-0.12\tAttack Acc:15.00\n",
      "Iteration:1800\tPrior Loss:15.81\tIden Loss:-0.13\tAttack Acc:10.00\n",
      "Iteration:2100\tPrior Loss:15.11\tIden Loss:-0.14\tAttack Acc:18.33\n",
      "Iteration:2400\tPrior Loss:14.39\tIden Loss:-0.15\tAttack Acc:15.00\n",
      "Gesamtzeit für 2400 Iterationen: 252.28 Sekunden\n",
      "--------------------- Attack batch [2]------------------------------\n",
      "Iden:tensor([0, 1, 2, 3, 4, 5, 6, 7, 8, 9, 0, 1, 2, 3, 4, 5, 6, 7, 8, 9, 0, 1, 2, 3,\n",
      "        4, 5, 6, 7, 8, 9, 0, 1, 2, 3, 4, 5, 6, 7, 8, 9, 0, 1, 2, 3, 4, 5, 6, 7,\n",
      "        8, 9, 0, 1, 2, 3, 4, 5, 6, 7, 8, 9])\n",
      "kedmi\n",
      "criterion:logit_loss\n",
      "Iteration:300\tPrior Loss:23.19\tIden Loss:-0.06\tAttack Acc:6.67\n",
      "Iteration:600\tPrior Loss:22.13\tIden Loss:-0.08\tAttack Acc:10.00\n",
      "Iteration:900\tPrior Loss:19.10\tIden Loss:-0.09\tAttack Acc:13.33\n",
      "Iteration:1200\tPrior Loss:18.85\tIden Loss:-0.11\tAttack Acc:11.67\n",
      "Iteration:1500\tPrior Loss:17.01\tIden Loss:-0.12\tAttack Acc:8.33\n",
      "Iteration:1800\tPrior Loss:16.64\tIden Loss:-0.12\tAttack Acc:16.67\n",
      "Iteration:2100\tPrior Loss:15.37\tIden Loss:-0.14\tAttack Acc:11.67\n",
      "Iteration:2400\tPrior Loss:15.34\tIden Loss:-0.16\tAttack Acc:16.67\n",
      "Gesamtzeit für 2400 Iterationen: 268.76 Sekunden\n",
      "--------------------- Attack batch [3]------------------------------\n",
      "Iden:tensor([0, 1, 2, 3, 4, 5, 6, 7, 8, 9, 0, 1, 2, 3, 4, 5, 6, 7, 8, 9, 0, 1, 2, 3,\n",
      "        4, 5, 6, 7, 8, 9, 0, 1, 2, 3, 4, 5, 6, 7, 8, 9, 0, 1, 2, 3, 4, 5, 6, 7,\n",
      "        8, 9, 0, 1, 2, 3, 4, 5, 6, 7, 8, 9])\n",
      "kedmi\n",
      "criterion:logit_loss\n",
      "Iteration:300\tPrior Loss:22.94\tIden Loss:-0.07\tAttack Acc:10.00\n",
      "Iteration:600\tPrior Loss:21.42\tIden Loss:-0.08\tAttack Acc:15.00\n",
      "Iteration:900\tPrior Loss:19.78\tIden Loss:-0.08\tAttack Acc:10.00\n",
      "Iteration:1200\tPrior Loss:18.45\tIden Loss:-0.11\tAttack Acc:8.33\n",
      "Iteration:1500\tPrior Loss:17.17\tIden Loss:-0.12\tAttack Acc:6.67\n",
      "Iteration:1800\tPrior Loss:16.26\tIden Loss:-0.12\tAttack Acc:10.00\n",
      "Iteration:2100\tPrior Loss:15.19\tIden Loss:-0.15\tAttack Acc:13.33\n",
      "Iteration:2400\tPrior Loss:15.14\tIden Loss:-0.16\tAttack Acc:10.00\n",
      "Gesamtzeit für 2400 Iterationen: 269.39 Sekunden\n",
      "--------------------- Attack batch [4]------------------------------\n",
      "Iden:tensor([0, 1, 2, 3, 4, 5, 6, 7, 8, 9, 0, 1, 2, 3, 4, 5, 6, 7, 8, 9, 0, 1, 2, 3,\n",
      "        4, 5, 6, 7, 8, 9, 0, 1, 2, 3, 4, 5, 6, 7, 8, 9, 0, 1, 2, 3, 4, 5, 6, 7,\n",
      "        8, 9, 0, 1, 2, 3, 4, 5, 6, 7, 8, 9])\n",
      "kedmi\n",
      "criterion:logit_loss\n",
      "Iteration:300\tPrior Loss:23.16\tIden Loss:-0.06\tAttack Acc:10.00\n",
      "Iteration:600\tPrior Loss:21.27\tIden Loss:-0.08\tAttack Acc:10.00\n",
      "Iteration:900\tPrior Loss:19.49\tIden Loss:-0.10\tAttack Acc:11.67\n",
      "Iteration:1200\tPrior Loss:17.77\tIden Loss:-0.12\tAttack Acc:11.67\n",
      "Iteration:1500\tPrior Loss:16.78\tIden Loss:-0.13\tAttack Acc:15.00\n",
      "Iteration:1800\tPrior Loss:16.20\tIden Loss:-0.14\tAttack Acc:6.67\n",
      "Iteration:2100\tPrior Loss:15.76\tIden Loss:-0.15\tAttack Acc:13.33\n",
      "Iteration:2400\tPrior Loss:15.35\tIden Loss:-0.16\tAttack Acc:13.33\n",
      "Gesamtzeit für 2400 Iterationen: 278.80 Sekunden\n"
     ]
    }
   ],
   "source": [
    "# Begin attacking\n",
    "for i in range(1):\n",
    "    iden = torch.from_numpy(np.arange(bs))\n",
    "\n",
    "    # evaluate on the first 300 identities only\n",
    "    target_cosines = 0\n",
    "    eval_cosines = 0\n",
    "    for idx in range(5):\n",
    "        iden = iden % n_classes\n",
    "        print(\n",
    "            \"--------------------- Attack batch [%s]------------------------------\"\n",
    "            % idx\n",
    "        )\n",
    "        print(\"Iden:{}\".format(iden))\n",
    "        save_dir_z = \"{}/{}_{}\".format(save_dir, i, idx)\n",
    "        print(\"kedmi\")\n",
    "\n",
    "        mnist_inversion(\n",
    "            G,\n",
    "            D,\n",
    "            targetnets,\n",
    "            E,\n",
    "            iden,\n",
    "            lr=configuration[\"attack\"][\"lr\"],\n",
    "            iter_times=configuration[\"attack\"][\"iters_mi\"],\n",
    "            momentum=0.9,\n",
    "            lamda=100,\n",
    "            clip_range=1,\n",
    "            improved=configuration['attack']['improved_flag'],\n",
    "            num_seeds=configuration['attack']['num_seeds'],\n",
    "            used_loss=configuration['attack']['loss'],\n",
    "            prefix=save_dir_z,\n",
    "            save_img_dir=os.path.join(save_img_dir, \"{}_\".format(idx)),\n",
    "            fea_mean=fea_mean,\n",
    "            fea_logvar=fea_logvar,\n",
    "            lam=configuration[\"attack\"][\"lam\"],\n",
    "            clipz=configuration['attack']['clipz'],\n",
    "        )\n",
    "        iden = iden + bs"
   ]
  },
  {
   "cell_type": "code",
   "execution_count": null,
   "metadata": {},
   "outputs": [],
   "source": []
  }
 ],
 "metadata": {
  "kernelspec": {
   "display_name": "torch-gpu",
   "language": "python",
   "name": "python3"
  },
  "language_info": {
   "codemirror_mode": {
    "name": "ipython",
    "version": 3
   },
   "file_extension": ".py",
   "mimetype": "text/x-python",
   "name": "python",
   "nbconvert_exporter": "python",
   "pygments_lexer": "ipython3",
   "version": "3.10.13"
  }
 },
 "nbformat": 4,
 "nbformat_minor": 2
}
