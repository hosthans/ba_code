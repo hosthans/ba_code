{
 "cells": [
  {
   "cell_type": "code",
   "execution_count": 20,
   "metadata": {},
   "outputs": [],
   "source": [
    "from models.generator import *\n",
    "from models.discri import *\n",
    "from utils.helper import *\n",
    "import torch\n",
    "import os\n",
    "import numpy as np\n",
    "from utils.kedmi_attack import inversion, dist_inversion"
   ]
  },
  {
   "cell_type": "markdown",
   "metadata": {},
   "source": [
    "### load specified configuration and specify environment variables"
   ]
  },
  {
   "cell_type": "code",
   "execution_count": 21,
   "metadata": {},
   "outputs": [],
   "source": [
    "CONFIG_PATH = \"config/celeba/attacking/celeba.json\"\n",
    "configuration = load_json(json_file=CONFIG_PATH)\n",
    "\n",
    "save_folder = os.path.join(f\"{configuration['dataset']['name']}_{configuration['dataset']['model_name']}\", configuration['attack']['variant'])\n",
    "prefix = os.path.join(os.path.join(configuration['root_path'], \"kedmi_300ids\"), save_folder)\n",
    "save_dir = os.path.join(prefix, \"latent\")\n",
    "save_img_dir = os.path.join(prefix, \"imgs_{}\".format(configuration[\"attack\"][\"variant\"]))\n",
    "log_path = os.path.join(prefix, configuration['attack']['log_path'])\n",
    "\n",
    "os.makedirs(prefix, exist_ok=True)\n",
    "os.makedirs(log_path, exist_ok=True)\n",
    "os.makedirs(save_img_dir, exist_ok=True)\n",
    "os.makedirs(save_dir, exist_ok=True)"
   ]
  },
  {
   "cell_type": "markdown",
   "metadata": {},
   "source": [
    "### load trained models"
   ]
  },
  {
   "cell_type": "code",
   "execution_count": 22,
   "metadata": {},
   "outputs": [
    {
     "ename": "TypeError",
     "evalue": "get_attack_model() missing 1 required positional argument: 'args_json'",
     "output_type": "error",
     "traceback": [
      "\u001b[0;31m---------------------------------------------------------------------------\u001b[0m",
      "\u001b[0;31mTypeError\u001b[0m                                 Traceback (most recent call last)",
      "\u001b[1;32m/home/bot/coding/bachelorarbeit/ba_code/kedmi/run_attack.ipynb Cell 5\u001b[0m line \u001b[0;36m1\n\u001b[0;32m----> <a href='vscode-notebook-cell:/home/bot/coding/bachelorarbeit/ba_code/kedmi/run_attack.ipynb#W3sZmlsZQ%3D%3D?line=0'>1</a>\u001b[0m targetnets, E, G, D, n_classes, fea_mean, fea_logvar \u001b[39m=\u001b[39m get_attack_model(configuration)\n",
      "\u001b[0;31mTypeError\u001b[0m: get_attack_model() missing 1 required positional argument: 'args_json'"
     ]
    }
   ],
   "source": [
    "targetnets, E, G, D, n_classes, fea_mean, fea_logvar = get_attack_model(configuration)"
   ]
  },
  {
   "cell_type": "code",
   "execution_count": 23,
   "metadata": {},
   "outputs": [
    {
     "name": "stdout",
     "output_type": "stream",
     "text": [
      "{'root_path': '../attack_results/', 'dataset': {'model_name': 'VGG16', 'test_file_path': '../datasets/meta/testset.txt', 'gan_file_path': '../datasets/meta/ganset.txt', 'name': 'celeba', 'img_path': '../datasets/celeba/img_align_celeba', 'img_gan_path': '../datasets/celeba/img_align_celeba', 'n_classes': 1000, 'fid_real_path': '../datasets/meta/celeba_target_300ids.npy', 'KNN_real_path': '../datasets/meta/fea_target_300ids.npy', 'p_reg_path': '../checkpoints/p_reg'}, 'train': {'model_types': 'VGG16,efficientnet_b0,efficientnet_b1,efficientnet_b2', 'cls_ckpts': '../checkpoints/target_model/target_ckp/VGG16_88.26.tar,../checkpoints/aug_ckp/celeba/VGG16_efficientnet_b0_0.02_1.0/VGG16_efficientnet_b0_kd_0_20.pt,../checkpoints/aug_ckp/celeba/VGG16_efficientnet_b1_0.02_1.0/VGG16_efficientnet_b1_kd_0_20.pt,../checkpoints/aug_ckp/celeba/VGG16_efficientnet_b2_0.02_1.0/VGG16_efficientnet_b2_kd_0_20.pt', 'num_seeds': 5, 'Nclass': 300, 'gan_model_dir': '../checkpoints/GAN', 'eval_model': 'FaceNet', 'eval_dir': '../checkpoints/target_model/target_ckp/FaceNet_95.88.tar'}, 'attack': {'method': 'kedmi', 'variant': 'L_logit', 'iters_mi': 2400, 'lr': 0.02, 'lam': 1.0, 'same_z': '', 'eval_metric': 'fid, acc, knn', 'improved_flag': True, 'clipz': True, 'num_seeds': 1, 'loss': 'logit_loss', 'classid': '0,1,2,3', 'log_path': 'inversion_logs'}}\n"
     ]
    }
   ],
   "source": [
    "print(configuration)"
   ]
  },
  {
   "cell_type": "code",
   "execution_count": null,
   "metadata": {},
   "outputs": [],
   "source": []
  }
 ],
 "metadata": {
  "kernelspec": {
   "display_name": "torch-gpu",
   "language": "python",
   "name": "python3"
  },
  "language_info": {
   "codemirror_mode": {
    "name": "ipython",
    "version": 3
   },
   "file_extension": ".py",
   "mimetype": "text/x-python",
   "name": "python",
   "nbconvert_exporter": "python",
   "pygments_lexer": "ipython3",
   "version": "3.10.13"
  }
 },
 "nbformat": 4,
 "nbformat_minor": 2
}
