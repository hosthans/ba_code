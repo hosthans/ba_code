{
 "cells": [
  {
   "cell_type": "code",
   "execution_count": 1,
   "metadata": {},
   "outputs": [
    {
     "name": "stderr",
     "output_type": "stream",
     "text": [
      "2023-11-16 09:33:21.992754: I tensorflow/core/platform/cpu_feature_guard.cc:182] This TensorFlow binary is optimized to use available CPU instructions in performance-critical operations.\n",
      "To enable the following instructions: SSE4.1 SSE4.2 AVX AVX2 FMA, in other operations, rebuild TensorFlow with the appropriate compiler flags.\n"
     ]
    }
   ],
   "source": [
    "from training.utils.trainer import Trainer"
   ]
  },
  {
   "cell_type": "code",
   "execution_count": 2,
   "metadata": {},
   "outputs": [
    {
     "name": "stdout",
     "output_type": "stream",
     "text": [
      "{'name': 'mnist', 'model_name': 'VGG16', 'gray': True, 'torch': True, 'num_classes': 10, 'local': False}\n",
      "----------------Loading datasets-----------------\n",
      "Dataset MNIST\n",
      "    Number of datapoints: 60000\n",
      "    Root location: datasets/mnist\n",
      "    Split: Train\n",
      "    StandardTransform\n",
      "Transform: Compose(\n",
      "               Resize(size=(64, 64), interpolation=bilinear, max_size=None, antialias=warn)\n",
      "               ToTensor()\n",
      "               Normalize(mean=[0.5], std=[0.5])\n",
      "           )\n"
     ]
    }
   ],
   "source": [
    "trainer = Trainer(dataset=\"mnist\", mode=\"gan\")"
   ]
  },
  {
   "cell_type": "code",
   "execution_count": 3,
   "metadata": {},
   "outputs": [
    {
     "name": "stdout",
     "output_type": "stream",
     "text": [
      "torch.Size([128, 1, 64, 64])\n"
     ]
    }
   ],
   "source": [
    "for i, (img, l) in enumerate(trainer.trainloader):\n",
    "    print(img.shape)\n",
    "    break"
   ]
  },
  {
   "cell_type": "code",
   "execution_count": 4,
   "metadata": {},
   "outputs": [
    {
     "name": "stdout",
     "output_type": "stream",
     "text": [
      "Training-Process started!\n"
     ]
    },
    {
     "name": "stdout",
     "output_type": "stream",
     "text": [
      "Epoch:0 \t Time:71.25191593170166 \t Generator loss: 26.931453704833984\n",
      "Epoch:1 \t Time:70.7501573562622 \t Generator loss: 21.799169540405273\n",
      "Epoch:2 \t Time:65.99122023582458 \t Generator loss: 21.191909790039062\n",
      "Epoch:3 \t Time:66.1746826171875 \t Generator loss: 22.085474014282227\n",
      "Epoch:4 \t Time:66.45198249816895 \t Generator loss: 15.900390625\n",
      "Epoch:5 \t Time:66.56667304039001 \t Generator loss: 18.541194915771484\n",
      "Epoch:6 \t Time:66.73975944519043 \t Generator loss: 16.31117820739746\n",
      "Epoch:7 \t Time:66.89247059822083 \t Generator loss: 15.348283767700195\n",
      "Epoch:8 \t Time:66.91751170158386 \t Generator loss: 18.084522247314453\n",
      "Epoch:9 \t Time:67.03009176254272 \t Generator loss: 21.159133911132812\n",
      "Epoch:10 \t Time:69.21011734008789 \t Generator loss: 20.240150451660156\n",
      "Epoch:11 \t Time:77.56313896179199 \t Generator loss: 15.777578353881836\n",
      "Epoch:12 \t Time:83.4766218662262 \t Generator loss: 19.637775421142578\n",
      "Epoch:13 \t Time:67.13833117485046 \t Generator loss: 20.292705535888672\n",
      "Epoch:14 \t Time:67.17557907104492 \t Generator loss: 19.127899169921875\n",
      "Epoch:15 \t Time:67.0827260017395 \t Generator loss: 19.485336303710938\n",
      "Epoch:16 \t Time:67.18763518333435 \t Generator loss: 21.49408531188965\n",
      "Epoch:17 \t Time:67.15927910804749 \t Generator loss: 16.79636573791504\n",
      "Epoch:18 \t Time:67.15469264984131 \t Generator loss: 19.911893844604492\n",
      "Epoch:19 \t Time:67.26030468940735 \t Generator loss: 16.7481689453125\n",
      "Epoch:20 \t Time:67.15721225738525 \t Generator loss: 23.28026580810547\n",
      "Epoch:21 \t Time:67.20998501777649 \t Generator loss: 19.79436492919922\n",
      "Epoch:22 \t Time:67.22029042243958 \t Generator loss: 20.856489181518555\n",
      "Epoch:23 \t Time:67.19662046432495 \t Generator loss: 22.179241180419922\n",
      "Epoch:24 \t Time:67.28315997123718 \t Generator loss: 18.12871742248535\n",
      "Epoch:25 \t Time:67.16406416893005 \t Generator loss: 19.482032775878906\n",
      "Epoch:26 \t Time:67.26085019111633 \t Generator loss: 25.062084197998047\n",
      "Epoch:27 \t Time:67.18784189224243 \t Generator loss: 21.2666072845459\n",
      "Epoch:28 \t Time:67.22601270675659 \t Generator loss: 21.374740600585938\n",
      "Epoch:29 \t Time:67.20244288444519 \t Generator loss: 17.410024642944336\n",
      "Epoch:30 \t Time:67.16236615180969 \t Generator loss: 18.485111236572266\n",
      "Epoch:31 \t Time:67.23720335960388 \t Generator loss: 18.10650634765625\n",
      "Epoch:32 \t Time:67.18686652183533 \t Generator loss: 18.69107437133789\n",
      "Epoch:33 \t Time:67.25158166885376 \t Generator loss: 17.629100799560547\n",
      "Epoch:34 \t Time:67.28007388114929 \t Generator loss: 20.435863494873047\n",
      "Epoch:35 \t Time:67.173015832901 \t Generator loss: 18.828907012939453\n",
      "Epoch:36 \t Time:67.26011610031128 \t Generator loss: 18.21659278869629\n",
      "Epoch:37 \t Time:67.17334175109863 \t Generator loss: 17.007488250732422\n",
      "Epoch:38 \t Time:67.2493622303009 \t Generator loss: 20.491872787475586\n",
      "Epoch:39 \t Time:67.23768186569214 \t Generator loss: 20.963253021240234\n",
      "Epoch:40 \t Time:67.1797993183136 \t Generator loss: 16.833850860595703\n",
      "Epoch:41 \t Time:67.23772931098938 \t Generator loss: 20.82896614074707\n",
      "Epoch:42 \t Time:67.21042656898499 \t Generator loss: 18.09954071044922\n",
      "Epoch:43 \t Time:67.2556984424591 \t Generator loss: 20.318845748901367\n",
      "Epoch:44 \t Time:67.2885570526123 \t Generator loss: 23.93099594116211\n",
      "Epoch:45 \t Time:67.20443534851074 \t Generator loss: 25.0627498626709\n",
      "Epoch:46 \t Time:67.23081398010254 \t Generator loss: 22.661094665527344\n",
      "Epoch:47 \t Time:67.17599105834961 \t Generator loss: 17.84527015686035\n",
      "Epoch:48 \t Time:67.2448501586914 \t Generator loss: 23.521068572998047\n",
      "Epoch:49 \t Time:67.28147983551025 \t Generator loss: 20.863567352294922\n",
      "Epoch:50 \t Time:67.1733193397522 \t Generator loss: 21.998798370361328\n",
      "Epoch:51 \t Time:67.24222016334534 \t Generator loss: 23.731571197509766\n",
      "Epoch:52 \t Time:67.23962712287903 \t Generator loss: 23.332260131835938\n",
      "Epoch:53 \t Time:67.24078488349915 \t Generator loss: 23.430530548095703\n",
      "Epoch:54 \t Time:67.30189728736877 \t Generator loss: 23.704265594482422\n",
      "Epoch:55 \t Time:67.18398118019104 \t Generator loss: 24.24570083618164\n",
      "Epoch:56 \t Time:93.5917661190033 \t Generator loss: 21.372798919677734\n",
      "Epoch:57 \t Time:67.06632399559021 \t Generator loss: 20.20379638671875\n",
      "Epoch:58 \t Time:67.22927355766296 \t Generator loss: 25.190265655517578\n",
      "Epoch:59 \t Time:67.25194811820984 \t Generator loss: 22.53505516052246\n",
      "Epoch:60 \t Time:67.21161532402039 \t Generator loss: 23.550628662109375\n",
      "Epoch:61 \t Time:67.2625572681427 \t Generator loss: 23.748966217041016\n",
      "Epoch:62 \t Time:67.2656500339508 \t Generator loss: 24.800941467285156\n",
      "Epoch:63 \t Time:67.29446411132812 \t Generator loss: 24.957836151123047\n",
      "Epoch:64 \t Time:67.34230542182922 \t Generator loss: 23.348730087280273\n",
      "Epoch:65 \t Time:67.21698117256165 \t Generator loss: 23.73333740234375\n",
      "Epoch:66 \t Time:67.25635766983032 \t Generator loss: 27.199180603027344\n",
      "Epoch:67 \t Time:67.29643845558167 \t Generator loss: 24.35370635986328\n",
      "Epoch:68 \t Time:67.31693124771118 \t Generator loss: 25.16394805908203\n",
      "Epoch:69 \t Time:67.29014372825623 \t Generator loss: 22.503681182861328\n",
      "Epoch:70 \t Time:67.23826551437378 \t Generator loss: 22.612600326538086\n",
      "Epoch:71 \t Time:67.22512245178223 \t Generator loss: 23.52459716796875\n",
      "Epoch:72 \t Time:67.28229641914368 \t Generator loss: 22.5662899017334\n",
      "Epoch:73 \t Time:67.26579594612122 \t Generator loss: 21.514572143554688\n",
      "Epoch:74 \t Time:67.30056405067444 \t Generator loss: 24.451065063476562\n",
      "Epoch:75 \t Time:67.22566866874695 \t Generator loss: 22.96063804626465\n",
      "Epoch:76 \t Time:67.28293919563293 \t Generator loss: 24.21677589416504\n",
      "Epoch:77 \t Time:67.29913258552551 \t Generator loss: 23.73853302001953\n",
      "Epoch:78 \t Time:67.28073334693909 \t Generator loss: 24.645736694335938\n",
      "Epoch:79 \t Time:67.35135340690613 \t Generator loss: 28.49568748474121\n",
      "Epoch:80 \t Time:67.25003910064697 \t Generator loss: 23.506534576416016\n",
      "Epoch:81 \t Time:73.35052180290222 \t Generator loss: 23.63033676147461\n",
      "Epoch:82 \t Time:67.23254728317261 \t Generator loss: 23.933258056640625\n",
      "Epoch:83 \t Time:67.28273057937622 \t Generator loss: 26.606847763061523\n",
      "Epoch:84 \t Time:67.35549402236938 \t Generator loss: 25.634212493896484\n",
      "Epoch:85 \t Time:67.20986819267273 \t Generator loss: 25.23387336730957\n",
      "Epoch:86 \t Time:67.27886056900024 \t Generator loss: 22.801395416259766\n",
      "Epoch:87 \t Time:67.30485415458679 \t Generator loss: 24.003063201904297\n",
      "Epoch:88 \t Time:67.28322982788086 \t Generator loss: 30.28250503540039\n",
      "Epoch:89 \t Time:67.29764771461487 \t Generator loss: 22.26549530029297\n",
      "Epoch:90 \t Time:67.2506582736969 \t Generator loss: 23.820514678955078\n",
      "Epoch:91 \t Time:67.28658056259155 \t Generator loss: 25.896133422851562\n",
      "Epoch:92 \t Time:67.30611419677734 \t Generator loss: 25.35861587524414\n",
      "Epoch:93 \t Time:67.30600929260254 \t Generator loss: 27.17101287841797\n",
      "Epoch:94 \t Time:67.29071593284607 \t Generator loss: 23.842254638671875\n",
      "Epoch:95 \t Time:67.31555652618408 \t Generator loss: 24.751344680786133\n",
      "Epoch:96 \t Time:67.27623462677002 \t Generator loss: 23.07416343688965\n",
      "Epoch:97 \t Time:67.30240178108215 \t Generator loss: 26.336402893066406\n",
      "Epoch:98 \t Time:67.26059460639954 \t Generator loss: 25.30379867553711\n",
      "Epoch:99 \t Time:67.36086297035217 \t Generator loss: 26.987525939941406\n"
     ]
    }
   ],
   "source": [
    "trainer.train()"
   ]
  },
  {
   "cell_type": "code",
   "execution_count": null,
   "metadata": {},
   "outputs": [],
   "source": []
  }
 ],
 "metadata": {
  "kernelspec": {
   "display_name": "torch-gpu",
   "language": "python",
   "name": "python3"
  },
  "language_info": {
   "codemirror_mode": {
    "name": "ipython",
    "version": 3
   },
   "file_extension": ".py",
   "mimetype": "text/x-python",
   "name": "python",
   "nbconvert_exporter": "python",
   "pygments_lexer": "ipython3",
   "version": "3.10.13"
  }
 },
 "nbformat": 4,
 "nbformat_minor": 2
}
