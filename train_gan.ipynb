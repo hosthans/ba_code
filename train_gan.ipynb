{
 "cells": [
  {
   "cell_type": "code",
   "execution_count": 1,
   "metadata": {},
   "outputs": [
    {
     "name": "stderr",
     "output_type": "stream",
     "text": [
      "2024-01-08 15:42:13.708801: I tensorflow/core/platform/cpu_feature_guard.cc:182] This TensorFlow binary is optimized to use available CPU instructions in performance-critical operations.\n",
      "To enable the following instructions: SSE4.1 SSE4.2 AVX AVX2 FMA, in other operations, rebuild TensorFlow with the appropriate compiler flags.\n"
     ]
    }
   ],
   "source": [
    "from training.utils.trainer import Trainer"
   ]
  },
  {
   "cell_type": "code",
   "execution_count": 2,
   "metadata": {},
   "outputs": [
    {
     "name": "stdout",
     "output_type": "stream",
     "text": [
      "{'name': 'qmnist', 'model_name': 'VGG16', 'gray': True, 'torch': True, 'num_classes': 10, 'local': False}\n",
      "----------------Loading datasets-----------------\n",
      "Dataset QMNIST\n",
      "    Number of datapoints: 60000\n",
      "    Root location: datasets/qmnist\n",
      "    Split: train\n",
      "    StandardTransform\n",
      "Transform: Compose(\n",
      "               Resize(size=(64, 64), interpolation=bilinear, max_size=None, antialias=warn)\n",
      "               ToTensor()\n",
      "               Normalize(mean=[0.5], std=[0.5])\n",
      "           )\n"
     ]
    }
   ],
   "source": [
    "trainer = Trainer(dataset=\"qmnist\", mode=\"gan\")"
   ]
  },
  {
   "cell_type": "code",
   "execution_count": 3,
   "metadata": {},
   "outputs": [
    {
     "name": "stdout",
     "output_type": "stream",
     "text": [
      "<torch.utils.data.dataloader.DataLoader object at 0x7f6cc417df30>\n"
     ]
    }
   ],
   "source": [
    "print(trainer.trainloader)"
   ]
  },
  {
   "cell_type": "code",
   "execution_count": 4,
   "metadata": {},
   "outputs": [
    {
     "name": "stdout",
     "output_type": "stream",
     "text": [
      "Training-Process started!\n",
      "Epoch:0 \t Time:76.5835690498352 \t Generator loss: 24.239919662475586\n",
      "Epoch:1 \t Time:71.25917911529541 \t Generator loss: 18.83834457397461\n",
      "Epoch:2 \t Time:69.95971751213074 \t Generator loss: 22.71363067626953\n",
      "Epoch:3 \t Time:66.9995186328888 \t Generator loss: 22.385406494140625\n",
      "Epoch:4 \t Time:70.20359802246094 \t Generator loss: 23.962575912475586\n",
      "Epoch:5 \t Time:72.86470198631287 \t Generator loss: 25.83517837524414\n",
      "Epoch:6 \t Time:72.73807454109192 \t Generator loss: 22.86209487915039\n",
      "Epoch:7 \t Time:72.85764122009277 \t Generator loss: 22.914897918701172\n",
      "Epoch:8 \t Time:72.88145756721497 \t Generator loss: 23.95638084411621\n",
      "Epoch:9 \t Time:73.34435772895813 \t Generator loss: 25.359542846679688\n",
      "Epoch:10 \t Time:73.08947324752808 \t Generator loss: 27.650833129882812\n",
      "Epoch:11 \t Time:73.21261620521545 \t Generator loss: 24.154909133911133\n",
      "Epoch:12 \t Time:73.20829463005066 \t Generator loss: 22.73108673095703\n",
      "Epoch:13 \t Time:73.324786901474 \t Generator loss: 28.036827087402344\n",
      "Epoch:14 \t Time:73.41440272331238 \t Generator loss: 23.387935638427734\n",
      "Epoch:15 \t Time:73.52481985092163 \t Generator loss: 27.673715591430664\n",
      "Epoch:16 \t Time:74.12351131439209 \t Generator loss: 20.42873191833496\n",
      "Epoch:17 \t Time:74.06725740432739 \t Generator loss: 21.652385711669922\n",
      "Epoch:18 \t Time:73.51085138320923 \t Generator loss: 27.549072265625\n"
     ]
    }
   ],
   "source": [
    "trainer.train()"
   ]
  },
  {
   "cell_type": "code",
   "execution_count": null,
   "metadata": {},
   "outputs": [],
   "source": []
  }
 ],
 "metadata": {
  "kernelspec": {
   "display_name": "torch-gpu",
   "language": "python",
   "name": "python3"
  },
  "language_info": {
   "codemirror_mode": {
    "name": "ipython",
    "version": 3
   },
   "file_extension": ".py",
   "mimetype": "text/x-python",
   "name": "python",
   "nbconvert_exporter": "python",
   "pygments_lexer": "ipython3",
   "version": "3.10.13"
  }
 },
 "nbformat": 4,
 "nbformat_minor": 2
}
