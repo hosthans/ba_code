{
 "cells": [
  {
   "cell_type": "code",
   "execution_count": 1,
   "metadata": {},
   "outputs": [
    {
     "name": "stderr",
     "output_type": "stream",
     "text": [
      "2024-01-08 15:42:13.708801: I tensorflow/core/platform/cpu_feature_guard.cc:182] This TensorFlow binary is optimized to use available CPU instructions in performance-critical operations.\n",
      "To enable the following instructions: SSE4.1 SSE4.2 AVX AVX2 FMA, in other operations, rebuild TensorFlow with the appropriate compiler flags.\n"
     ]
    }
   ],
   "source": [
    "from training.utils.trainer import Trainer"
   ]
  },
  {
   "cell_type": "code",
   "execution_count": 2,
   "metadata": {},
   "outputs": [
    {
     "name": "stdout",
     "output_type": "stream",
     "text": [
      "{'name': 'qmnist', 'model_name': 'VGG16', 'gray': True, 'torch': True, 'num_classes': 10, 'local': False}\n",
      "----------------Loading datasets-----------------\n",
      "Dataset QMNIST\n",
      "    Number of datapoints: 60000\n",
      "    Root location: datasets/qmnist\n",
      "    Split: train\n",
      "    StandardTransform\n",
      "Transform: Compose(\n",
      "               Resize(size=(64, 64), interpolation=bilinear, max_size=None, antialias=warn)\n",
      "               ToTensor()\n",
      "               Normalize(mean=[0.5], std=[0.5])\n",
      "           )\n"
     ]
    }
   ],
   "source": [
    "trainer = Trainer(dataset=\"qmnist\", mode=\"gan\")"
   ]
  },
  {
   "cell_type": "code",
   "execution_count": 3,
   "metadata": {},
   "outputs": [
    {
     "name": "stdout",
     "output_type": "stream",
     "text": [
      "<torch.utils.data.dataloader.DataLoader object at 0x7f6cc417df30>\n"
     ]
    }
   ],
   "source": [
    "print(trainer.trainloader)"
   ]
  },
  {
   "cell_type": "code",
   "execution_count": 4,
   "metadata": {},
   "outputs": [
    {
     "name": "stdout",
     "output_type": "stream",
     "text": [
      "Training-Process started!\n",
      "Epoch:0 \t Time:76.5835690498352 \t Generator loss: 24.239919662475586\n",
      "Epoch:1 \t Time:71.25917911529541 \t Generator loss: 18.83834457397461\n",
      "Epoch:2 \t Time:69.95971751213074 \t Generator loss: 22.71363067626953\n",
      "Epoch:3 \t Time:66.9995186328888 \t Generator loss: 22.385406494140625\n",
      "Epoch:4 \t Time:70.20359802246094 \t Generator loss: 23.962575912475586\n",
      "Epoch:5 \t Time:72.86470198631287 \t Generator loss: 25.83517837524414\n",
      "Epoch:6 \t Time:72.73807454109192 \t Generator loss: 22.86209487915039\n",
      "Epoch:7 \t Time:72.85764122009277 \t Generator loss: 22.914897918701172\n",
      "Epoch:8 \t Time:72.88145756721497 \t Generator loss: 23.95638084411621\n",
      "Epoch:9 \t Time:73.34435772895813 \t Generator loss: 25.359542846679688\n",
      "Epoch:10 \t Time:73.08947324752808 \t Generator loss: 27.650833129882812\n",
      "Epoch:11 \t Time:73.21261620521545 \t Generator loss: 24.154909133911133\n",
      "Epoch:12 \t Time:73.20829463005066 \t Generator loss: 22.73108673095703\n",
      "Epoch:13 \t Time:73.324786901474 \t Generator loss: 28.036827087402344\n",
      "Epoch:14 \t Time:73.41440272331238 \t Generator loss: 23.387935638427734\n",
      "Epoch:15 \t Time:73.52481985092163 \t Generator loss: 27.673715591430664\n",
      "Epoch:16 \t Time:74.12351131439209 \t Generator loss: 20.42873191833496\n",
      "Epoch:17 \t Time:74.06725740432739 \t Generator loss: 21.652385711669922\n",
      "Epoch:18 \t Time:73.51085138320923 \t Generator loss: 27.549072265625\n",
      "Epoch:19 \t Time:73.84708070755005 \t Generator loss: 28.396352767944336\n",
      "Epoch:20 \t Time:73.69081544876099 \t Generator loss: 25.488452911376953\n",
      "Epoch:21 \t Time:73.76868772506714 \t Generator loss: 27.4731502532959\n",
      "Epoch:22 \t Time:73.56284475326538 \t Generator loss: 22.026702880859375\n",
      "Epoch:23 \t Time:73.68203234672546 \t Generator loss: 21.01755142211914\n",
      "Epoch:24 \t Time:73.5810534954071 \t Generator loss: 23.509559631347656\n",
      "Epoch:25 \t Time:73.73492622375488 \t Generator loss: 21.353721618652344\n",
      "Epoch:26 \t Time:73.73387241363525 \t Generator loss: 19.916015625\n",
      "Epoch:27 \t Time:73.84832787513733 \t Generator loss: 21.223615646362305\n",
      "Epoch:28 \t Time:73.95706534385681 \t Generator loss: 22.27839469909668\n",
      "Epoch:29 \t Time:73.80777931213379 \t Generator loss: 23.319446563720703\n",
      "Epoch:30 \t Time:73.67549991607666 \t Generator loss: 18.605371475219727\n",
      "Epoch:31 \t Time:73.60962867736816 \t Generator loss: 18.735374450683594\n",
      "Epoch:32 \t Time:73.8021411895752 \t Generator loss: 17.350582122802734\n",
      "Epoch:33 \t Time:73.72768521308899 \t Generator loss: 18.76447868347168\n",
      "Epoch:34 \t Time:73.75582981109619 \t Generator loss: 17.33034896850586\n",
      "Epoch:35 \t Time:73.63885498046875 \t Generator loss: 20.075305938720703\n",
      "Epoch:36 \t Time:74.339182138443 \t Generator loss: 18.20865249633789\n",
      "Epoch:37 \t Time:73.68800282478333 \t Generator loss: 17.37263298034668\n",
      "Epoch:38 \t Time:73.73737049102783 \t Generator loss: 17.76435089111328\n",
      "Epoch:39 \t Time:73.8296856880188 \t Generator loss: 16.88142204284668\n",
      "Epoch:40 \t Time:73.84699177742004 \t Generator loss: 19.621044158935547\n",
      "Epoch:41 \t Time:73.76910400390625 \t Generator loss: 18.44965362548828\n",
      "Epoch:42 \t Time:73.79919147491455 \t Generator loss: 18.597400665283203\n",
      "Epoch:43 \t Time:73.7822802066803 \t Generator loss: 18.153240203857422\n",
      "Epoch:44 \t Time:73.65238285064697 \t Generator loss: 16.81416893005371\n",
      "Epoch:45 \t Time:73.78096461296082 \t Generator loss: 18.43927574157715\n",
      "Epoch:46 \t Time:73.75970959663391 \t Generator loss: 16.126686096191406\n",
      "Epoch:47 \t Time:73.8408875465393 \t Generator loss: 19.98709487915039\n",
      "Epoch:48 \t Time:73.64601445198059 \t Generator loss: 17.880077362060547\n",
      "Epoch:49 \t Time:73.65400457382202 \t Generator loss: 18.49025535583496\n",
      "Epoch:50 \t Time:73.88876295089722 \t Generator loss: 18.272357940673828\n",
      "Epoch:51 \t Time:73.76678276062012 \t Generator loss: 16.191585540771484\n",
      "Epoch:52 \t Time:73.57340121269226 \t Generator loss: 17.303428649902344\n",
      "Epoch:53 \t Time:73.6042902469635 \t Generator loss: 17.394330978393555\n",
      "Epoch:54 \t Time:73.46670436859131 \t Generator loss: 15.451258659362793\n",
      "Epoch:55 \t Time:73.84108567237854 \t Generator loss: 16.651090621948242\n",
      "Epoch:56 \t Time:73.78507900238037 \t Generator loss: 13.043434143066406\n",
      "Epoch:57 \t Time:73.89411783218384 \t Generator loss: 14.043462753295898\n",
      "Epoch:58 \t Time:73.75284957885742 \t Generator loss: 12.76150131225586\n",
      "Epoch:59 \t Time:74.39282774925232 \t Generator loss: 16.656116485595703\n",
      "Epoch:60 \t Time:75.41984915733337 \t Generator loss: 18.304332733154297\n",
      "Epoch:61 \t Time:75.61820960044861 \t Generator loss: 15.761090278625488\n",
      "Epoch:62 \t Time:75.62420105934143 \t Generator loss: 14.28543758392334\n",
      "Epoch:63 \t Time:75.58657479286194 \t Generator loss: 15.703052520751953\n",
      "Epoch:64 \t Time:75.1289587020874 \t Generator loss: 18.311573028564453\n",
      "Epoch:65 \t Time:67.4189019203186 \t Generator loss: 13.401193618774414\n",
      "Epoch:66 \t Time:67.47646570205688 \t Generator loss: 12.184404373168945\n",
      "Epoch:67 \t Time:67.51687812805176 \t Generator loss: 11.918451309204102\n",
      "Epoch:68 \t Time:67.47048807144165 \t Generator loss: 12.059280395507812\n",
      "Epoch:69 \t Time:67.52086305618286 \t Generator loss: 11.630351066589355\n",
      "Epoch:70 \t Time:67.4415066242218 \t Generator loss: 11.27472972869873\n",
      "Epoch:71 \t Time:73.20461416244507 \t Generator loss: 12.809849739074707\n",
      "Epoch:72 \t Time:74.06891322135925 \t Generator loss: 10.66177749633789\n",
      "Epoch:73 \t Time:74.26146030426025 \t Generator loss: 9.74483871459961\n",
      "Epoch:74 \t Time:74.09268593788147 \t Generator loss: 11.22647762298584\n",
      "Epoch:75 \t Time:74.0383415222168 \t Generator loss: 12.793980598449707\n",
      "Epoch:76 \t Time:74.16874051094055 \t Generator loss: 11.849987030029297\n",
      "Epoch:77 \t Time:74.05862188339233 \t Generator loss: 12.54313850402832\n",
      "Epoch:78 \t Time:74.03841543197632 \t Generator loss: 10.920382499694824\n",
      "Epoch:79 \t Time:74.08251953125 \t Generator loss: 12.536529541015625\n",
      "Epoch:80 \t Time:74.25498795509338 \t Generator loss: 13.923041343688965\n",
      "Epoch:81 \t Time:74.09467673301697 \t Generator loss: 14.556010246276855\n",
      "Epoch:82 \t Time:74.08626341819763 \t Generator loss: 13.765946388244629\n",
      "Epoch:83 \t Time:74.0799822807312 \t Generator loss: 11.477927207946777\n",
      "Epoch:84 \t Time:74.10791516304016 \t Generator loss: 10.95459270477295\n",
      "Epoch:85 \t Time:74.09055805206299 \t Generator loss: 10.757205963134766\n",
      "Epoch:86 \t Time:73.94097781181335 \t Generator loss: 12.41201400756836\n",
      "Epoch:87 \t Time:73.88927125930786 \t Generator loss: 12.880792617797852\n",
      "Epoch:88 \t Time:74.04671788215637 \t Generator loss: 9.733219146728516\n",
      "Epoch:89 \t Time:74.15293407440186 \t Generator loss: 13.169722557067871\n",
      "Epoch:90 \t Time:74.15036964416504 \t Generator loss: 12.112085342407227\n",
      "Epoch:91 \t Time:74.12688112258911 \t Generator loss: 9.523645401000977\n",
      "Epoch:92 \t Time:74.15514492988586 \t Generator loss: 13.022659301757812\n",
      "Epoch:93 \t Time:74.15654730796814 \t Generator loss: 9.85954475402832\n",
      "Epoch:94 \t Time:74.19919991493225 \t Generator loss: 9.516353607177734\n",
      "Epoch:95 \t Time:74.09590291976929 \t Generator loss: 10.761051177978516\n",
      "Epoch:96 \t Time:74.07941627502441 \t Generator loss: 11.763480186462402\n",
      "Epoch:97 \t Time:74.28712153434753 \t Generator loss: 13.02159309387207\n",
      "Epoch:98 \t Time:67.6003646850586 \t Generator loss: 8.579280853271484\n",
      "Epoch:99 \t Time:67.52026557922363 \t Generator loss: 10.229986190795898\n"
     ]
    }
   ],
   "source": [
    "trainer.train()"
   ]
  },
  {
   "cell_type": "code",
   "execution_count": null,
   "metadata": {},
   "outputs": [],
   "source": []
  }
 ],
 "metadata": {
  "kernelspec": {
   "display_name": "torch-gpu",
   "language": "python",
   "name": "python3"
  },
  "language_info": {
   "codemirror_mode": {
    "name": "ipython",
    "version": 3
   },
   "file_extension": ".py",
   "mimetype": "text/x-python",
   "name": "python",
   "nbconvert_exporter": "python",
   "pygments_lexer": "ipython3",
   "version": "3.10.13"
  }
 },
 "nbformat": 4,
 "nbformat_minor": 2
}
