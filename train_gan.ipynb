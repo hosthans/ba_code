{
 "cells": [
  {
   "cell_type": "code",
   "execution_count": 1,
   "metadata": {},
   "outputs": [
    {
     "name": "stderr",
     "output_type": "stream",
     "text": [
      "2023-11-21 11:28:51.724626: I tensorflow/core/platform/cpu_feature_guard.cc:182] This TensorFlow binary is optimized to use available CPU instructions in performance-critical operations.\n",
      "To enable the following instructions: SSE4.1 SSE4.2 AVX AVX2 FMA, in other operations, rebuild TensorFlow with the appropriate compiler flags.\n"
     ]
    }
   ],
   "source": [
    "from training.utils.trainer import Trainer"
   ]
  },
  {
   "cell_type": "code",
   "execution_count": 2,
   "metadata": {},
   "outputs": [
    {
     "name": "stdout",
     "output_type": "stream",
     "text": [
      "{'name': 'mnist', 'model_name': 'VGG16', 'gray': True, 'torch': True, 'num_classes': 10, 'local': False}\n",
      "----------------Loading datasets-----------------\n",
      "Dataset MNIST\n",
      "    Number of datapoints: 60000\n",
      "    Root location: datasets/mnist\n",
      "    Split: Train\n",
      "    StandardTransform\n",
      "Transform: Compose(\n",
      "               Resize(size=(64, 64), interpolation=bilinear, max_size=None, antialias=warn)\n",
      "               ToTensor()\n",
      "               Normalize(mean=[0.5], std=[0.5])\n",
      "           )\n"
     ]
    }
   ],
   "source": [
    "trainer = Trainer(dataset=\"mnist\", mode=\"gan\")"
   ]
  },
  {
   "cell_type": "code",
   "execution_count": 3,
   "metadata": {},
   "outputs": [
    {
     "name": "stdout",
     "output_type": "stream",
     "text": [
      "torch.Size([128, 1, 64, 64])\n"
     ]
    }
   ],
   "source": [
    "for i, (img, l) in enumerate(trainer.trainloader):\n",
    "    print(img.shape)\n",
    "    break"
   ]
  },
  {
   "cell_type": "code",
   "execution_count": 4,
   "metadata": {},
   "outputs": [
    {
     "name": "stdout",
     "output_type": "stream",
     "text": [
      "Training-Process started!\n",
      "Epoch:0 \t Time:72.32904052734375 \t Generator loss: 11.322456359863281\n",
      "Epoch:1 \t Time:67.07956290245056 \t Generator loss: 17.802366256713867\n",
      "Epoch:2 \t Time:65.33213663101196 \t Generator loss: 21.000991821289062\n",
      "Epoch:3 \t Time:65.917001247406 \t Generator loss: 21.112892150878906\n",
      "Epoch:4 \t Time:66.13926362991333 \t Generator loss: 13.249797821044922\n",
      "Epoch:5 \t Time:66.25726532936096 \t Generator loss: 22.892288208007812\n",
      "Epoch:6 \t Time:66.5602388381958 \t Generator loss: 27.407245635986328\n",
      "Epoch:7 \t Time:66.75120615959167 \t Generator loss: 26.891267776489258\n",
      "Epoch:8 \t Time:66.88901281356812 \t Generator loss: 21.80847930908203\n",
      "Epoch:9 \t Time:67.0019896030426 \t Generator loss: 18.962902069091797\n",
      "Epoch:10 \t Time:67.03506445884705 \t Generator loss: 26.411453247070312\n",
      "Epoch:11 \t Time:67.12748312950134 \t Generator loss: 18.892044067382812\n",
      "Epoch:12 \t Time:67.17429232597351 \t Generator loss: 19.559953689575195\n",
      "Epoch:13 \t Time:67.26600456237793 \t Generator loss: 20.311717987060547\n",
      "Epoch:14 \t Time:67.32496166229248 \t Generator loss: 20.543415069580078\n",
      "Epoch:15 \t Time:71.40963768959045 \t Generator loss: 21.560123443603516\n",
      "Epoch:16 \t Time:70.31198620796204 \t Generator loss: 20.702932357788086\n",
      "Epoch:17 \t Time:67.42718434333801 \t Generator loss: 20.746850967407227\n",
      "Epoch:18 \t Time:67.45806550979614 \t Generator loss: 21.214632034301758\n",
      "Epoch:19 \t Time:67.56117105484009 \t Generator loss: 19.965103149414062\n",
      "Epoch:20 \t Time:67.47474408149719 \t Generator loss: 23.12332534790039\n",
      "Epoch:21 \t Time:67.53674554824829 \t Generator loss: 21.077468872070312\n",
      "Epoch:22 \t Time:67.5357756614685 \t Generator loss: 24.58324432373047\n",
      "Epoch:23 \t Time:69.34822535514832 \t Generator loss: 24.28832244873047\n",
      "Epoch:24 \t Time:69.415762424469 \t Generator loss: 23.875646591186523\n",
      "Epoch:25 \t Time:67.58082580566406 \t Generator loss: 21.656970977783203\n",
      "Epoch:26 \t Time:67.61163568496704 \t Generator loss: 26.522632598876953\n",
      "Epoch:27 \t Time:67.64663553237915 \t Generator loss: 23.276933670043945\n",
      "Epoch:28 \t Time:67.59342956542969 \t Generator loss: 23.344844818115234\n",
      "Epoch:29 \t Time:67.62257289886475 \t Generator loss: 20.42156982421875\n",
      "Epoch:30 \t Time:67.5404224395752 \t Generator loss: 22.981447219848633\n",
      "Epoch:31 \t Time:67.60088348388672 \t Generator loss: 22.193819046020508\n",
      "Epoch:32 \t Time:67.61452651023865 \t Generator loss: 21.397415161132812\n",
      "Epoch:33 \t Time:67.66757559776306 \t Generator loss: 18.13332748413086\n",
      "Epoch:34 \t Time:67.63796615600586 \t Generator loss: 24.979785919189453\n",
      "Epoch:35 \t Time:67.55519962310791 \t Generator loss: 23.666461944580078\n",
      "Epoch:36 \t Time:67.65932130813599 \t Generator loss: 22.646318435668945\n",
      "Epoch:37 \t Time:67.64108896255493 \t Generator loss: 24.57272720336914\n",
      "Epoch:38 \t Time:67.6281111240387 \t Generator loss: 22.88501739501953\n",
      "Epoch:39 \t Time:67.69699144363403 \t Generator loss: 24.9561767578125\n",
      "Epoch:40 \t Time:67.6039776802063 \t Generator loss: 22.429271697998047\n",
      "Epoch:41 \t Time:67.66156601905823 \t Generator loss: 21.67357635498047\n",
      "Epoch:42 \t Time:67.65618133544922 \t Generator loss: 25.93929100036621\n",
      "Epoch:43 \t Time:67.66650986671448 \t Generator loss: 25.075908660888672\n",
      "Epoch:44 \t Time:67.67412662506104 \t Generator loss: 23.651737213134766\n",
      "Epoch:45 \t Time:67.644216299057 \t Generator loss: 23.972135543823242\n",
      "Epoch:46 \t Time:67.6116886138916 \t Generator loss: 23.086515426635742\n",
      "Epoch:47 \t Time:67.67771935462952 \t Generator loss: 22.32860565185547\n",
      "Epoch:48 \t Time:67.65322542190552 \t Generator loss: 23.38561248779297\n",
      "Epoch:49 \t Time:67.69780087471008 \t Generator loss: 23.32309341430664\n",
      "Epoch:50 \t Time:68.51611614227295 \t Generator loss: 24.356910705566406\n",
      "Epoch:51 \t Time:76.19970083236694 \t Generator loss: 22.844589233398438\n",
      "Epoch:52 \t Time:76.0445830821991 \t Generator loss: 21.661718368530273\n",
      "Epoch:53 \t Time:75.94952750205994 \t Generator loss: 23.519611358642578\n",
      "Epoch:54 \t Time:76.20683288574219 \t Generator loss: 24.586759567260742\n",
      "Epoch:55 \t Time:76.0299813747406 \t Generator loss: 22.117197036743164\n",
      "Epoch:56 \t Time:76.08492970466614 \t Generator loss: 22.00509262084961\n",
      "Epoch:57 \t Time:76.01179027557373 \t Generator loss: 23.182157516479492\n",
      "Epoch:58 \t Time:74.0711510181427 \t Generator loss: 20.863204956054688\n",
      "Epoch:59 \t Time:67.73308038711548 \t Generator loss: 23.003902435302734\n",
      "Epoch:60 \t Time:67.7233579158783 \t Generator loss: 24.861881256103516\n",
      "Epoch:61 \t Time:67.76988959312439 \t Generator loss: 21.346458435058594\n",
      "Epoch:62 \t Time:67.76273560523987 \t Generator loss: 25.038528442382812\n",
      "Epoch:63 \t Time:67.79037117958069 \t Generator loss: 24.8269100189209\n",
      "Epoch:64 \t Time:67.7584080696106 \t Generator loss: 23.912700653076172\n",
      "Epoch:65 \t Time:67.6752438545227 \t Generator loss: 27.647701263427734\n",
      "Epoch:66 \t Time:67.75848579406738 \t Generator loss: 24.047679901123047\n",
      "Epoch:67 \t Time:67.71911644935608 \t Generator loss: 27.868146896362305\n",
      "Epoch:68 \t Time:67.80082440376282 \t Generator loss: 24.16486167907715\n",
      "Epoch:69 \t Time:67.77022361755371 \t Generator loss: 24.6966552734375\n",
      "Epoch:70 \t Time:67.66005754470825 \t Generator loss: 22.74317741394043\n",
      "Epoch:71 \t Time:67.71608114242554 \t Generator loss: 24.32526397705078\n",
      "Epoch:72 \t Time:67.72632765769958 \t Generator loss: 23.725116729736328\n",
      "Epoch:73 \t Time:67.7765793800354 \t Generator loss: 25.47844696044922\n",
      "Epoch:74 \t Time:67.75442099571228 \t Generator loss: 25.569448471069336\n",
      "Epoch:75 \t Time:67.67086815834045 \t Generator loss: 24.163951873779297\n",
      "Epoch:76 \t Time:67.70405077934265 \t Generator loss: 24.606538772583008\n",
      "Epoch:77 \t Time:67.7483172416687 \t Generator loss: 25.598318099975586\n",
      "Epoch:78 \t Time:67.75568723678589 \t Generator loss: 24.174293518066406\n",
      "Epoch:79 \t Time:67.76189088821411 \t Generator loss: 24.473814010620117\n",
      "Epoch:80 \t Time:67.69104051589966 \t Generator loss: 24.63759994506836\n",
      "Epoch:81 \t Time:67.70453572273254 \t Generator loss: 23.034000396728516\n",
      "Epoch:82 \t Time:67.75406813621521 \t Generator loss: 23.402671813964844\n",
      "Epoch:83 \t Time:67.75691413879395 \t Generator loss: 22.66811752319336\n",
      "Epoch:84 \t Time:67.80794191360474 \t Generator loss: 24.595104217529297\n",
      "Epoch:85 \t Time:67.72978067398071 \t Generator loss: 24.706851959228516\n",
      "Epoch:86 \t Time:67.71684432029724 \t Generator loss: 24.227365493774414\n",
      "Epoch:87 \t Time:67.73370409011841 \t Generator loss: 21.83746337890625\n",
      "Epoch:88 \t Time:67.74230766296387 \t Generator loss: 22.621606826782227\n",
      "Epoch:89 \t Time:67.77514171600342 \t Generator loss: 22.808696746826172\n",
      "Epoch:90 \t Time:67.71843385696411 \t Generator loss: 22.703704833984375\n",
      "Epoch:91 \t Time:67.74320125579834 \t Generator loss: 22.07127571105957\n",
      "Epoch:92 \t Time:70.18569540977478 \t Generator loss: 21.204744338989258\n",
      "Epoch:93 \t Time:76.01242661476135 \t Generator loss: 25.414167404174805\n",
      "Epoch:94 \t Time:76.16855502128601 \t Generator loss: 23.457983016967773\n",
      "Epoch:95 \t Time:76.19158053398132 \t Generator loss: 23.62297821044922\n",
      "Epoch:96 \t Time:76.2533643245697 \t Generator loss: 23.081499099731445\n",
      "Epoch:97 \t Time:68.79049921035767 \t Generator loss: 24.84632110595703\n",
      "Epoch:98 \t Time:67.80167293548584 \t Generator loss: 26.051807403564453\n",
      "Epoch:99 \t Time:67.78452682495117 \t Generator loss: 24.814556121826172\n"
     ]
    }
   ],
   "source": [
    "trainer.train()"
   ]
  },
  {
   "cell_type": "code",
   "execution_count": null,
   "metadata": {},
   "outputs": [],
   "source": []
  }
 ],
 "metadata": {
  "kernelspec": {
   "display_name": "torch-gpu",
   "language": "python",
   "name": "python3"
  },
  "language_info": {
   "codemirror_mode": {
    "name": "ipython",
    "version": 3
   },
   "file_extension": ".py",
   "mimetype": "text/x-python",
   "name": "python",
   "nbconvert_exporter": "python",
   "pygments_lexer": "ipython3",
   "version": "3.10.13"
  }
 },
 "nbformat": 4,
 "nbformat_minor": 2
}
