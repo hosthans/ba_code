{
 "cells": [
  {
   "cell_type": "code",
   "execution_count": 1,
   "metadata": {},
   "outputs": [
    {
     "name": "stderr",
     "output_type": "stream",
     "text": [
      "2023-11-23 10:53:02.783413: I tensorflow/core/platform/cpu_feature_guard.cc:182] This TensorFlow binary is optimized to use available CPU instructions in performance-critical operations.\n",
      "To enable the following instructions: SSE4.1 SSE4.2 AVX AVX2 FMA, in other operations, rebuild TensorFlow with the appropriate compiler flags.\n"
     ]
    }
   ],
   "source": [
    "from training.utils.trainer import Trainer"
   ]
  },
  {
   "cell_type": "code",
   "execution_count": 2,
   "metadata": {},
   "outputs": [
    {
     "name": "stdout",
     "output_type": "stream",
     "text": [
      "{'name': 'celeba', 'indices': False, 'gray': False, 'train_file': 'datasets/meta_celeba/trainset.txt', 'test_file': 'datasets/meta_celeba/testset.txt', 'gan_file': 'datasets/meta_celeba/ganset.txt', 'img_path': 'datasets/celeba/img_align_celeba', 'img_gan_path': 'datasets/celeba/img_align_celeba', 'model_name': 'VGG16', 'num_classes': 1000}\n",
      "----------------Loading datasets-----------------\n",
      "<training.utils.dataloader.ImageFolder object at 0x7f06f0f483d0>\n"
     ]
    }
   ],
   "source": [
    "trainer = Trainer(dataset=\"celeba\", mode=\"gan\")"
   ]
  },
  {
   "cell_type": "code",
   "execution_count": 3,
   "metadata": {},
   "outputs": [
    {
     "name": "stdout",
     "output_type": "stream",
     "text": [
      "torch.Size([128, 3, 64, 64])\n"
     ]
    }
   ],
   "source": [
    "for i, img in enumerate(trainer.trainloader):\n",
    "    print(img.shape)\n",
    "    break"
   ]
  },
  {
   "cell_type": "code",
   "execution_count": 4,
   "metadata": {},
   "outputs": [
    {
     "name": "stdout",
     "output_type": "stream",
     "text": [
      "Training-Process started!\n",
      "Epoch:0 \t Time:38.14432454109192 \t Generator loss: -10.822611808776855\n",
      "Epoch:1 \t Time:37.94248175621033 \t Generator loss: -12.552513122558594\n",
      "Epoch:2 \t Time:38.0532021522522 \t Generator loss: -9.59603500366211\n",
      "Epoch:3 \t Time:38.57761001586914 \t Generator loss: -10.957079887390137\n",
      "Epoch:4 \t Time:38.72533416748047 \t Generator loss: -9.969589233398438\n",
      "Epoch:5 \t Time:39.105308532714844 \t Generator loss: -9.82602596282959\n",
      "Epoch:6 \t Time:39.231515645980835 \t Generator loss: -10.715311050415039\n",
      "Epoch:7 \t Time:39.19277763366699 \t Generator loss: -10.723304748535156\n",
      "Epoch:8 \t Time:37.35145020484924 \t Generator loss: -11.240283966064453\n",
      "Epoch:9 \t Time:36.39626359939575 \t Generator loss: -9.111289978027344\n",
      "Epoch:10 \t Time:36.54280996322632 \t Generator loss: -9.811602592468262\n",
      "Epoch:11 \t Time:36.492286682128906 \t Generator loss: -10.17947769165039\n",
      "Epoch:12 \t Time:36.59013247489929 \t Generator loss: -11.362104415893555\n",
      "Epoch:13 \t Time:36.56566286087036 \t Generator loss: -9.863970756530762\n",
      "Epoch:14 \t Time:36.66050577163696 \t Generator loss: -11.01463508605957\n",
      "Epoch:15 \t Time:36.73064374923706 \t Generator loss: -9.146815299987793\n",
      "Epoch:16 \t Time:36.86690855026245 \t Generator loss: -8.783254623413086\n",
      "Epoch:17 \t Time:36.65652799606323 \t Generator loss: -9.59957218170166\n",
      "Epoch:18 \t Time:36.70612549781799 \t Generator loss: -9.56756591796875\n",
      "Epoch:19 \t Time:36.665666341781616 \t Generator loss: -9.731557846069336\n",
      "Epoch:20 \t Time:36.82953643798828 \t Generator loss: -10.367463111877441\n",
      "Epoch:21 \t Time:36.68845891952515 \t Generator loss: -9.371671676635742\n",
      "Epoch:22 \t Time:36.79093337059021 \t Generator loss: -10.541258811950684\n",
      "Epoch:23 \t Time:36.78907632827759 \t Generator loss: -9.40330696105957\n",
      "Epoch:24 \t Time:37.0691659450531 \t Generator loss: -8.048469543457031\n",
      "Epoch:25 \t Time:36.8966281414032 \t Generator loss: -7.946651458740234\n",
      "Epoch:26 \t Time:36.836748361587524 \t Generator loss: -8.562948226928711\n",
      "Epoch:27 \t Time:36.87130117416382 \t Generator loss: -9.25468635559082\n",
      "Epoch:28 \t Time:36.89297032356262 \t Generator loss: -9.218408584594727\n",
      "Epoch:29 \t Time:36.84276628494263 \t Generator loss: -8.757556915283203\n",
      "Epoch:30 \t Time:36.949934244155884 \t Generator loss: -8.153497695922852\n",
      "Epoch:31 \t Time:36.88809657096863 \t Generator loss: -6.733185768127441\n",
      "Epoch:32 \t Time:36.8935341835022 \t Generator loss: -7.571408748626709\n",
      "Epoch:33 \t Time:37.29836916923523 \t Generator loss: -6.838153839111328\n",
      "Epoch:34 \t Time:36.93640732765198 \t Generator loss: -8.709754943847656\n",
      "Epoch:35 \t Time:37.00364804267883 \t Generator loss: -7.7151007652282715\n",
      "Epoch:36 \t Time:36.944358825683594 \t Generator loss: -8.686752319335938\n",
      "Epoch:37 \t Time:36.90168595314026 \t Generator loss: -8.426288604736328\n",
      "Epoch:38 \t Time:36.915536642074585 \t Generator loss: -7.876270294189453\n",
      "Epoch:39 \t Time:37.03555250167847 \t Generator loss: -6.999724388122559\n",
      "Epoch:40 \t Time:36.983010053634644 \t Generator loss: -8.375885009765625\n",
      "Epoch:41 \t Time:37.529093980789185 \t Generator loss: -8.47175407409668\n",
      "Epoch:42 \t Time:36.87904191017151 \t Generator loss: -8.929693222045898\n",
      "Epoch:43 \t Time:36.91100811958313 \t Generator loss: -7.812957763671875\n",
      "Epoch:44 \t Time:37.01277017593384 \t Generator loss: -7.105626583099365\n",
      "Epoch:45 \t Time:38.14060163497925 \t Generator loss: -7.678339958190918\n",
      "Epoch:46 \t Time:39.85901880264282 \t Generator loss: -7.118030548095703\n",
      "Epoch:47 \t Time:39.82344889640808 \t Generator loss: -7.955406188964844\n",
      "Epoch:48 \t Time:39.90414237976074 \t Generator loss: -7.68416166305542\n",
      "Epoch:49 \t Time:39.74615740776062 \t Generator loss: -7.589789390563965\n",
      "Epoch:50 \t Time:39.90043544769287 \t Generator loss: -7.5790252685546875\n",
      "Epoch:51 \t Time:39.704206466674805 \t Generator loss: -7.65390157699585\n",
      "Epoch:52 \t Time:39.77408051490784 \t Generator loss: -7.445882320404053\n",
      "Epoch:53 \t Time:39.55890226364136 \t Generator loss: -6.062450408935547\n",
      "Epoch:54 \t Time:35.79100966453552 \t Generator loss: -6.739503383636475\n",
      "Epoch:55 \t Time:35.82803916931152 \t Generator loss: -8.009418487548828\n",
      "Epoch:56 \t Time:35.82183313369751 \t Generator loss: -6.4498748779296875\n",
      "Epoch:57 \t Time:35.75461196899414 \t Generator loss: -7.315944194793701\n",
      "Epoch:58 \t Time:35.78974366188049 \t Generator loss: -5.63910436630249\n",
      "Epoch:59 \t Time:35.80339550971985 \t Generator loss: -6.1449995040893555\n",
      "Epoch:60 \t Time:35.79477381706238 \t Generator loss: -5.491265296936035\n",
      "Epoch:61 \t Time:35.79712152481079 \t Generator loss: -5.3200483322143555\n",
      "Epoch:62 \t Time:35.804192304611206 \t Generator loss: -6.300643444061279\n",
      "Epoch:63 \t Time:35.69083619117737 \t Generator loss: -5.6318464279174805\n",
      "Epoch:64 \t Time:35.754711389541626 \t Generator loss: -5.962443828582764\n",
      "Epoch:65 \t Time:35.7598237991333 \t Generator loss: -6.237729549407959\n",
      "Epoch:66 \t Time:35.76159310340881 \t Generator loss: -5.3520917892456055\n",
      "Epoch:67 \t Time:35.717427253723145 \t Generator loss: -4.446127414703369\n",
      "Epoch:68 \t Time:35.78348135948181 \t Generator loss: -6.643608093261719\n",
      "Epoch:69 \t Time:35.72047710418701 \t Generator loss: -5.660041809082031\n",
      "Epoch:70 \t Time:35.827961444854736 \t Generator loss: -4.091926097869873\n",
      "Epoch:71 \t Time:35.69117045402527 \t Generator loss: -4.206807613372803\n",
      "Epoch:72 \t Time:35.831547260284424 \t Generator loss: -5.275867462158203\n",
      "Epoch:73 \t Time:35.6820502281189 \t Generator loss: -5.192112445831299\n",
      "Epoch:74 \t Time:35.80631923675537 \t Generator loss: -4.344095230102539\n",
      "Epoch:75 \t Time:35.71899628639221 \t Generator loss: -5.716091156005859\n",
      "Epoch:76 \t Time:35.7393217086792 \t Generator loss: -4.0288286209106445\n",
      "Epoch:77 \t Time:35.777740240097046 \t Generator loss: -4.841294288635254\n",
      "Epoch:78 \t Time:35.704851150512695 \t Generator loss: -2.6659209728240967\n",
      "Epoch:79 \t Time:35.74109435081482 \t Generator loss: -4.656831741333008\n",
      "Epoch:80 \t Time:35.71110415458679 \t Generator loss: -4.110313415527344\n",
      "Epoch:81 \t Time:35.83774995803833 \t Generator loss: -4.004021644592285\n",
      "Epoch:82 \t Time:35.79045534133911 \t Generator loss: -4.861629962921143\n",
      "Epoch:83 \t Time:35.7062611579895 \t Generator loss: -4.445051193237305\n",
      "Epoch:84 \t Time:35.766539335250854 \t Generator loss: -3.6042680740356445\n",
      "Epoch:85 \t Time:35.81932210922241 \t Generator loss: -3.768070936203003\n",
      "Epoch:86 \t Time:35.81208825111389 \t Generator loss: -2.665037155151367\n",
      "Epoch:87 \t Time:35.82675647735596 \t Generator loss: -3.4946448802948\n",
      "Epoch:88 \t Time:35.76635766029358 \t Generator loss: -2.8577699661254883\n",
      "Epoch:89 \t Time:38.010960817337036 \t Generator loss: -3.8013808727264404\n",
      "Epoch:90 \t Time:39.80321216583252 \t Generator loss: -3.532325267791748\n",
      "Epoch:91 \t Time:39.70895981788635 \t Generator loss: -1.648973822593689\n",
      "Epoch:92 \t Time:39.74102187156677 \t Generator loss: -2.7194557189941406\n",
      "Epoch:93 \t Time:39.74879193305969 \t Generator loss: -2.921995162963867\n",
      "Epoch:94 \t Time:39.80567812919617 \t Generator loss: -2.04728102684021\n",
      "Epoch:95 \t Time:39.87914848327637 \t Generator loss: -2.054429531097412\n",
      "Epoch:96 \t Time:39.67733693122864 \t Generator loss: -2.2865867614746094\n",
      "Epoch:97 \t Time:40.02863359451294 \t Generator loss: -2.620351791381836\n",
      "Epoch:98 \t Time:39.762600898742676 \t Generator loss: -2.113236904144287\n",
      "Epoch:99 \t Time:39.80091905593872 \t Generator loss: -1.877387523651123\n"
     ]
    }
   ],
   "source": [
    "trainer.train()"
   ]
  },
  {
   "cell_type": "code",
   "execution_count": null,
   "metadata": {},
   "outputs": [],
   "source": []
  }
 ],
 "metadata": {
  "kernelspec": {
   "display_name": "torch-gpu",
   "language": "python",
   "name": "python3"
  },
  "language_info": {
   "codemirror_mode": {
    "name": "ipython",
    "version": 3
   },
   "file_extension": ".py",
   "mimetype": "text/x-python",
   "name": "python",
   "nbconvert_exporter": "python",
   "pygments_lexer": "ipython3",
   "version": "3.10.13"
  }
 },
 "nbformat": 4,
 "nbformat_minor": 2
}
