{
 "cells": [
  {
   "cell_type": "code",
   "execution_count": 26,
   "metadata": {},
   "outputs": [],
   "source": [
    "from torchvision import datasets, transforms\n",
    "import torch\n",
    "import torch.utils.data as D\n",
    "import os"
   ]
  },
  {
   "cell_type": "markdown",
   "metadata": {},
   "source": [
    "### create directory, if it doesn't exist"
   ]
  },
  {
   "cell_type": "code",
   "execution_count": 27,
   "metadata": {},
   "outputs": [],
   "source": [
    "MNIST_SPLIT_PATH = \"data/MNIST_SPLIT\"\n",
    "MNIST_PATH = \"data/mnist\"\n",
    "os.makedirs(MNIST_SPLIT_PATH, exist_ok=True)"
   ]
  },
  {
   "cell_type": "markdown",
   "metadata": {},
   "source": [
    "### (down)load mnist dataset"
   ]
  },
  {
   "cell_type": "code",
   "execution_count": 28,
   "metadata": {},
   "outputs": [],
   "source": [
    "mnist_dataset = datasets.MNIST(\n",
    "    root=MNIST_PATH,\n",
    "    transform=transforms.Compose(\n",
    "        [\n",
    "            transforms.Grayscale(num_output_channels=3),\n",
    "            transforms.ToTensor(),\n",
    "            transforms.Resize((64, 64)),\n",
    "            transforms.Normalize(mean=[0.5, 0.5, 0.5], std=[0.5, 0.5, 0.5]),\n",
    "        ]\n",
    "    ),\n",
    "    target_transform=None,\n",
    "    download=True,\n",
    ")"
   ]
  },
  {
   "cell_type": "markdown",
   "metadata": {},
   "source": [
    "### divide dataset in multiple parts"
   ]
  },
  {
   "cell_type": "code",
   "execution_count": 29,
   "metadata": {},
   "outputs": [],
   "source": [
    "# Definiere den Sampler für die gleichmäßige Aufteilung\n",
    "total_samples = len(mnist_dataset)\n",
    "subset_size = total_samples // 10\n",
    "subset_indices = list(range(total_samples))\n",
    "\n",
    "# Teile die Indices in vier Teile auf\n",
    "train_indices = subset_indices[:subset_size*2]\n",
    "test_indices = subset_indices[subset_size *2: 4 * subset_size]\n",
    "val_indices = subset_indices[subset_size *2: 4 * subset_size]\n",
    "gan_indices = subset_indices[subset_size *2: 4 * subset_size]\n",
    "\n",
    "\n",
    "# Erstelle die Subset-Sampler für jeden Teildatensatz\n",
    "subset1_sampler = D.SubsetRandomSampler(subset1_indices)\n",
    "subset2_sampler = D.SubsetRandomSampler(subset2_indices)\n",
    "\n",
    "\n",
    "# Erstelle Dataloader für jeden Teildatensatz mit entsprechenden Samplern\n",
    "batch_size = 32\n",
    "trainloader = D.DataLoader(mnist_dataset, batch_size=batch_size, sampler=subset1_sampler)\n",
    "testloader = D.DataLoader(mnist_dataset, batch_size=batch_size, sampler=subset2_sampler)"
   ]
  },
  {
   "cell_type": "markdown",
   "metadata": {},
   "source": [
    "### save indices"
   ]
  },
  {
   "cell_type": "code",
   "execution_count": 30,
   "metadata": {},
   "outputs": [
    {
     "name": "stdout",
     "output_type": "stream",
     "text": [
      "torch.Size([32, 3, 64, 64])\n",
      "tensor([2, 5, 6, 2, 7, 6, 4, 4, 8, 2, 9, 2, 1, 4, 2, 7, 2, 4, 1, 7, 8, 1, 3, 5,\n",
      "        9, 2, 5, 2, 1, 7, 2, 3])\n"
     ]
    }
   ],
   "source": [
    "for i, (img, lab) in enumerate(trainloader):\n",
    "    print(img.shape)\n",
    "    print(lab)\n",
    "    break"
   ]
  },
  {
   "cell_type": "code",
   "execution_count": null,
   "metadata": {},
   "outputs": [],
   "source": []
  }
 ],
 "metadata": {
  "kernelspec": {
   "display_name": "torch-gpu",
   "language": "python",
   "name": "python3"
  },
  "language_info": {
   "codemirror_mode": {
    "name": "ipython",
    "version": 3
   },
   "file_extension": ".py",
   "mimetype": "text/x-python",
   "name": "python",
   "nbconvert_exporter": "python",
   "pygments_lexer": "ipython3",
   "version": "3.10.13"
  }
 },
 "nbformat": 4,
 "nbformat_minor": 2
}
