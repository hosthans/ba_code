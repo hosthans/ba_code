{
 "cells": [
  {
   "cell_type": "code",
   "execution_count": 1,
   "metadata": {},
   "outputs": [],
   "source": [
    "import os\n",
    "import numpy as np\n",
    "import random\n",
    "import torch\n",
    "import torch.nn as nn\n",
    "import torch.nn.functional as F\n",
    "import argparse\n",
    "from model.classifier import VGG16\n",
    "from model.evaluator import FaceNet\n",
    "from model.SAC import Agent\n",
    "from model.gan import Generator\n",
    "from utils.mi_attack import inversion_dcgan, inversion_stylegan\n",
    "from utils.file_utils import load_my_state_dict, low2high, seed_everything\n",
    "import pickle\n",
    "import time\n",
    "import warnings"
   ]
  },
  {
   "cell_type": "code",
   "execution_count": 2,
   "metadata": {},
   "outputs": [],
   "source": [
    "MODEL_NAME = \"VGG16\"\n",
    "MAX_EPISODES = 100000\n",
    "MAX_STEP = 1\n",
    "SEED = 42\n",
    "ALPHA = 0\n",
    "N_CLASSES = 1000\n",
    "Z_DIM = 100\n",
    "N_TARGET = 10"
   ]
  },
  {
   "cell_type": "markdown",
   "metadata": {},
   "source": [
    "### load if generator should be stylegan2 trained on faces (ffhq)"
   ]
  },
  {
   "cell_type": "code",
   "execution_count": 3,
   "metadata": {},
   "outputs": [
    {
     "name": "stdout",
     "output_type": "stream",
     "text": [
      "Target Model: VGG16\n"
     ]
    },
    {
     "data": {
      "text/plain": [
       "Generator(\n",
       "  (synthesis): SynthesisNetwork(\n",
       "    (b4): SynthesisBlock(\n",
       "      (conv1): SynthesisLayer(\n",
       "        (affine): FullyConnectedLayer()\n",
       "      )\n",
       "      (torgb): ToRGBLayer(\n",
       "        (affine): FullyConnectedLayer()\n",
       "      )\n",
       "    )\n",
       "    (b8): SynthesisBlock(\n",
       "      (conv0): SynthesisLayer(\n",
       "        (affine): FullyConnectedLayer()\n",
       "      )\n",
       "      (conv1): SynthesisLayer(\n",
       "        (affine): FullyConnectedLayer()\n",
       "      )\n",
       "      (torgb): ToRGBLayer(\n",
       "        (affine): FullyConnectedLayer()\n",
       "      )\n",
       "    )\n",
       "    (b16): SynthesisBlock(\n",
       "      (conv0): SynthesisLayer(\n",
       "        (affine): FullyConnectedLayer()\n",
       "      )\n",
       "      (conv1): SynthesisLayer(\n",
       "        (affine): FullyConnectedLayer()\n",
       "      )\n",
       "      (torgb): ToRGBLayer(\n",
       "        (affine): FullyConnectedLayer()\n",
       "      )\n",
       "    )\n",
       "    (b32): SynthesisBlock(\n",
       "      (conv0): SynthesisLayer(\n",
       "        (affine): FullyConnectedLayer()\n",
       "      )\n",
       "      (conv1): SynthesisLayer(\n",
       "        (affine): FullyConnectedLayer()\n",
       "      )\n",
       "      (torgb): ToRGBLayer(\n",
       "        (affine): FullyConnectedLayer()\n",
       "      )\n",
       "    )\n",
       "    (b64): SynthesisBlock(\n",
       "      (conv0): SynthesisLayer(\n",
       "        (affine): FullyConnectedLayer()\n",
       "      )\n",
       "      (conv1): SynthesisLayer(\n",
       "        (affine): FullyConnectedLayer()\n",
       "      )\n",
       "      (torgb): ToRGBLayer(\n",
       "        (affine): FullyConnectedLayer()\n",
       "      )\n",
       "    )\n",
       "    (b128): SynthesisBlock(\n",
       "      (conv0): SynthesisLayer(\n",
       "        (affine): FullyConnectedLayer()\n",
       "      )\n",
       "      (conv1): SynthesisLayer(\n",
       "        (affine): FullyConnectedLayer()\n",
       "      )\n",
       "      (torgb): ToRGBLayer(\n",
       "        (affine): FullyConnectedLayer()\n",
       "      )\n",
       "    )\n",
       "    (b256): SynthesisBlock(\n",
       "      (conv0): SynthesisLayer(\n",
       "        (affine): FullyConnectedLayer()\n",
       "      )\n",
       "      (conv1): SynthesisLayer(\n",
       "        (affine): FullyConnectedLayer()\n",
       "      )\n",
       "      (torgb): ToRGBLayer(\n",
       "        (affine): FullyConnectedLayer()\n",
       "      )\n",
       "    )\n",
       "    (b512): SynthesisBlock(\n",
       "      (conv0): SynthesisLayer(\n",
       "        (affine): FullyConnectedLayer()\n",
       "      )\n",
       "      (conv1): SynthesisLayer(\n",
       "        (affine): FullyConnectedLayer()\n",
       "      )\n",
       "      (torgb): ToRGBLayer(\n",
       "        (affine): FullyConnectedLayer()\n",
       "      )\n",
       "    )\n",
       "    (b1024): SynthesisBlock(\n",
       "      (conv0): SynthesisLayer(\n",
       "        (affine): FullyConnectedLayer()\n",
       "      )\n",
       "      (conv1): SynthesisLayer(\n",
       "        (affine): FullyConnectedLayer()\n",
       "      )\n",
       "      (torgb): ToRGBLayer(\n",
       "        (affine): FullyConnectedLayer()\n",
       "      )\n",
       "    )\n",
       "  )\n",
       "  (mapping): MappingNetwork(\n",
       "    (fc0): FullyConnectedLayer()\n",
       "    (fc1): FullyConnectedLayer()\n",
       "    (fc2): FullyConnectedLayer()\n",
       "    (fc3): FullyConnectedLayer()\n",
       "    (fc4): FullyConnectedLayer()\n",
       "    (fc5): FullyConnectedLayer()\n",
       "    (fc6): FullyConnectedLayer()\n",
       "    (fc7): FullyConnectedLayer()\n",
       "  )\n",
       ")"
      ]
     },
     "execution_count": 3,
     "metadata": {},
     "output_type": "execute_result"
    }
   ],
   "source": [
    "print(f\"Target Model: {MODEL_NAME}\")\n",
    "with open ('../checkpoints/gan/GeneratorStyleffhq.pkl', 'rb') as f:\n",
    "    G = pickle.load(f)['G_ema'].cuda()\n",
    "G.eval()\n",
    "# G = Generator(Z_DIM)\n",
    "# path_G = \"checkpoints/gan/Genen.tar\"\n",
    "# G = torch.nn.DataParallel(G).cuda()\n",
    "# G.load_state_dict(torch.load(path_G)['state_dict'], strict=False)"
   ]
  },
  {
   "cell_type": "code",
   "execution_count": null,
   "metadata": {},
   "outputs": [],
   "source": []
  },
  {
   "cell_type": "markdown",
   "metadata": {},
   "source": [
    "### load target model"
   ]
  },
  {
   "cell_type": "code",
   "execution_count": 4,
   "metadata": {},
   "outputs": [
    {
     "name": "stderr",
     "output_type": "stream",
     "text": [
      "/home/bot/.local/lib/python3.10/site-packages/torchvision/models/_utils.py:208: UserWarning: The parameter 'pretrained' is deprecated since 0.13 and may be removed in the future, please use 'weights' instead.\n",
      "  warnings.warn(\n",
      "/home/bot/.local/lib/python3.10/site-packages/torchvision/models/_utils.py:223: UserWarning: Arguments other than a weight enum or `None` for 'weights' are deprecated since 0.13 and may be removed in the future. The current behavior is equivalent to passing `weights=None`.\n",
      "  warnings.warn(msg)\n"
     ]
    },
    {
     "data": {
      "text/plain": [
       "DataParallel(\n",
       "  (module): VGG16(\n",
       "    (feature): Sequential(\n",
       "      (0): Conv2d(3, 64, kernel_size=(3, 3), stride=(1, 1), padding=(1, 1))\n",
       "      (1): BatchNorm2d(64, eps=1e-05, momentum=0.1, affine=True, track_running_stats=True)\n",
       "      (2): ReLU(inplace=True)\n",
       "      (3): Conv2d(64, 64, kernel_size=(3, 3), stride=(1, 1), padding=(1, 1))\n",
       "      (4): BatchNorm2d(64, eps=1e-05, momentum=0.1, affine=True, track_running_stats=True)\n",
       "      (5): ReLU(inplace=True)\n",
       "      (6): MaxPool2d(kernel_size=2, stride=2, padding=0, dilation=1, ceil_mode=False)\n",
       "      (7): Conv2d(64, 128, kernel_size=(3, 3), stride=(1, 1), padding=(1, 1))\n",
       "      (8): BatchNorm2d(128, eps=1e-05, momentum=0.1, affine=True, track_running_stats=True)\n",
       "      (9): ReLU(inplace=True)\n",
       "      (10): Conv2d(128, 128, kernel_size=(3, 3), stride=(1, 1), padding=(1, 1))\n",
       "      (11): BatchNorm2d(128, eps=1e-05, momentum=0.1, affine=True, track_running_stats=True)\n",
       "      (12): ReLU(inplace=True)\n",
       "      (13): MaxPool2d(kernel_size=2, stride=2, padding=0, dilation=1, ceil_mode=False)\n",
       "      (14): Conv2d(128, 256, kernel_size=(3, 3), stride=(1, 1), padding=(1, 1))\n",
       "      (15): BatchNorm2d(256, eps=1e-05, momentum=0.1, affine=True, track_running_stats=True)\n",
       "      (16): ReLU(inplace=True)\n",
       "      (17): Conv2d(256, 256, kernel_size=(3, 3), stride=(1, 1), padding=(1, 1))\n",
       "      (18): BatchNorm2d(256, eps=1e-05, momentum=0.1, affine=True, track_running_stats=True)\n",
       "      (19): ReLU(inplace=True)\n",
       "      (20): Conv2d(256, 256, kernel_size=(3, 3), stride=(1, 1), padding=(1, 1))\n",
       "      (21): BatchNorm2d(256, eps=1e-05, momentum=0.1, affine=True, track_running_stats=True)\n",
       "      (22): ReLU(inplace=True)\n",
       "      (23): MaxPool2d(kernel_size=2, stride=2, padding=0, dilation=1, ceil_mode=False)\n",
       "      (24): Conv2d(256, 512, kernel_size=(3, 3), stride=(1, 1), padding=(1, 1))\n",
       "      (25): BatchNorm2d(512, eps=1e-05, momentum=0.1, affine=True, track_running_stats=True)\n",
       "      (26): ReLU(inplace=True)\n",
       "      (27): Conv2d(512, 512, kernel_size=(3, 3), stride=(1, 1), padding=(1, 1))\n",
       "      (28): BatchNorm2d(512, eps=1e-05, momentum=0.1, affine=True, track_running_stats=True)\n",
       "      (29): ReLU(inplace=True)\n",
       "      (30): Conv2d(512, 512, kernel_size=(3, 3), stride=(1, 1), padding=(1, 1))\n",
       "      (31): BatchNorm2d(512, eps=1e-05, momentum=0.1, affine=True, track_running_stats=True)\n",
       "      (32): ReLU(inplace=True)\n",
       "      (33): MaxPool2d(kernel_size=2, stride=2, padding=0, dilation=1, ceil_mode=False)\n",
       "      (34): Conv2d(512, 512, kernel_size=(3, 3), stride=(1, 1), padding=(1, 1))\n",
       "      (35): BatchNorm2d(512, eps=1e-05, momentum=0.1, affine=True, track_running_stats=True)\n",
       "      (36): ReLU(inplace=True)\n",
       "      (37): Conv2d(512, 512, kernel_size=(3, 3), stride=(1, 1), padding=(1, 1))\n",
       "      (38): BatchNorm2d(512, eps=1e-05, momentum=0.1, affine=True, track_running_stats=True)\n",
       "      (39): ReLU(inplace=True)\n",
       "      (40): Conv2d(512, 512, kernel_size=(3, 3), stride=(1, 1), padding=(1, 1))\n",
       "      (41): BatchNorm2d(512, eps=1e-05, momentum=0.1, affine=True, track_running_stats=True)\n",
       "      (42): ReLU(inplace=True)\n",
       "      (43): MaxPool2d(kernel_size=2, stride=2, padding=0, dilation=1, ceil_mode=False)\n",
       "    )\n",
       "    (bn): BatchNorm1d(2048, eps=1e-05, momentum=0.1, affine=True, track_running_stats=True)\n",
       "    (fc_layer): Linear(in_features=2048, out_features=1000, bias=True)\n",
       "  )\n",
       ")"
      ]
     },
     "execution_count": 4,
     "metadata": {},
     "output_type": "execute_result"
    }
   ],
   "source": [
    "T = VGG16(N_CLASSES)\n",
    "path_T = \"../checkpoints/VGG16/nn_VGG16celeba.tar\"\n",
    "T = torch.nn.DataParallel(T).cuda()\n",
    "T.load_state_dict(torch.load(path_T)['state_dict'], strict=False)\n",
    "T.eval()"
   ]
  },
  {
   "cell_type": "markdown",
   "metadata": {},
   "source": [
    "### load evaluator model"
   ]
  },
  {
   "cell_type": "code",
   "execution_count": 5,
   "metadata": {},
   "outputs": [
    {
     "data": {
      "text/plain": [
       "DataParallel(\n",
       "  (module): DataParallel(\n",
       "    (module): VGG16(\n",
       "      (feature): Sequential(\n",
       "        (0): Conv2d(3, 64, kernel_size=(3, 3), stride=(1, 1), padding=(1, 1))\n",
       "        (1): BatchNorm2d(64, eps=1e-05, momentum=0.1, affine=True, track_running_stats=True)\n",
       "        (2): ReLU(inplace=True)\n",
       "        (3): Conv2d(64, 64, kernel_size=(3, 3), stride=(1, 1), padding=(1, 1))\n",
       "        (4): BatchNorm2d(64, eps=1e-05, momentum=0.1, affine=True, track_running_stats=True)\n",
       "        (5): ReLU(inplace=True)\n",
       "        (6): MaxPool2d(kernel_size=2, stride=2, padding=0, dilation=1, ceil_mode=False)\n",
       "        (7): Conv2d(64, 128, kernel_size=(3, 3), stride=(1, 1), padding=(1, 1))\n",
       "        (8): BatchNorm2d(128, eps=1e-05, momentum=0.1, affine=True, track_running_stats=True)\n",
       "        (9): ReLU(inplace=True)\n",
       "        (10): Conv2d(128, 128, kernel_size=(3, 3), stride=(1, 1), padding=(1, 1))\n",
       "        (11): BatchNorm2d(128, eps=1e-05, momentum=0.1, affine=True, track_running_stats=True)\n",
       "        (12): ReLU(inplace=True)\n",
       "        (13): MaxPool2d(kernel_size=2, stride=2, padding=0, dilation=1, ceil_mode=False)\n",
       "        (14): Conv2d(128, 256, kernel_size=(3, 3), stride=(1, 1), padding=(1, 1))\n",
       "        (15): BatchNorm2d(256, eps=1e-05, momentum=0.1, affine=True, track_running_stats=True)\n",
       "        (16): ReLU(inplace=True)\n",
       "        (17): Conv2d(256, 256, kernel_size=(3, 3), stride=(1, 1), padding=(1, 1))\n",
       "        (18): BatchNorm2d(256, eps=1e-05, momentum=0.1, affine=True, track_running_stats=True)\n",
       "        (19): ReLU(inplace=True)\n",
       "        (20): Conv2d(256, 256, kernel_size=(3, 3), stride=(1, 1), padding=(1, 1))\n",
       "        (21): BatchNorm2d(256, eps=1e-05, momentum=0.1, affine=True, track_running_stats=True)\n",
       "        (22): ReLU(inplace=True)\n",
       "        (23): MaxPool2d(kernel_size=2, stride=2, padding=0, dilation=1, ceil_mode=False)\n",
       "        (24): Conv2d(256, 512, kernel_size=(3, 3), stride=(1, 1), padding=(1, 1))\n",
       "        (25): BatchNorm2d(512, eps=1e-05, momentum=0.1, affine=True, track_running_stats=True)\n",
       "        (26): ReLU(inplace=True)\n",
       "        (27): Conv2d(512, 512, kernel_size=(3, 3), stride=(1, 1), padding=(1, 1))\n",
       "        (28): BatchNorm2d(512, eps=1e-05, momentum=0.1, affine=True, track_running_stats=True)\n",
       "        (29): ReLU(inplace=True)\n",
       "        (30): Conv2d(512, 512, kernel_size=(3, 3), stride=(1, 1), padding=(1, 1))\n",
       "        (31): BatchNorm2d(512, eps=1e-05, momentum=0.1, affine=True, track_running_stats=True)\n",
       "        (32): ReLU(inplace=True)\n",
       "        (33): MaxPool2d(kernel_size=2, stride=2, padding=0, dilation=1, ceil_mode=False)\n",
       "        (34): Conv2d(512, 512, kernel_size=(3, 3), stride=(1, 1), padding=(1, 1))\n",
       "        (35): BatchNorm2d(512, eps=1e-05, momentum=0.1, affine=True, track_running_stats=True)\n",
       "        (36): ReLU(inplace=True)\n",
       "        (37): Conv2d(512, 512, kernel_size=(3, 3), stride=(1, 1), padding=(1, 1))\n",
       "        (38): BatchNorm2d(512, eps=1e-05, momentum=0.1, affine=True, track_running_stats=True)\n",
       "        (39): ReLU(inplace=True)\n",
       "        (40): Conv2d(512, 512, kernel_size=(3, 3), stride=(1, 1), padding=(1, 1))\n",
       "        (41): BatchNorm2d(512, eps=1e-05, momentum=0.1, affine=True, track_running_stats=True)\n",
       "        (42): ReLU(inplace=True)\n",
       "        (43): MaxPool2d(kernel_size=2, stride=2, padding=0, dilation=1, ceil_mode=False)\n",
       "      )\n",
       "      (bn): BatchNorm1d(2048, eps=1e-05, momentum=0.1, affine=True, track_running_stats=True)\n",
       "      (fc_layer): Linear(in_features=2048, out_features=1000, bias=True)\n",
       "    )\n",
       "  )\n",
       ")"
      ]
     },
     "execution_count": 5,
     "metadata": {},
     "output_type": "execute_result"
    }
   ],
   "source": [
    "# E = FaceNet(N_CLASSES)\n",
    "# path_E = '../checkpoints/VGG16/Evalceleba.tar'\n",
    "# E = torch.nn.DataParallel(E).cuda()\n",
    "# E.load_state_dict(torch.load(path_E)['state_dict'], strict=False)\n",
    "# E.eval()\n",
    "\n",
    "E = VGG16(N_CLASSES)\n",
    "path_E = \"../checkpoints/VGG16/nn_VGG16celeba.tar\"\n",
    "E = torch.nn.DataParallel(T).cuda()\n",
    "E.load_state_dict(torch.load(path_E)['state_dict'], strict=False)\n",
    "E.eval()"
   ]
  },
  {
   "cell_type": "code",
   "execution_count": 6,
   "metadata": {},
   "outputs": [],
   "source": [
    "seed_everything(seed=SEED)"
   ]
  },
  {
   "cell_type": "code",
   "execution_count": 7,
   "metadata": {},
   "outputs": [
    {
     "name": "stdout",
     "output_type": "stream",
     "text": [
      "1\n"
     ]
    }
   ],
   "source": [
    "total = 0\n",
    "cnt = 0\n",
    "cnt5 = 0\n",
    "\n",
    "identities = range(N_CLASSES)\n",
    "# targets = identities[401:401+N_TARGET]\n",
    "targets = [0]\n",
    "print(len(targets))\n",
    "os.makedirs(\"../attack_results/reinforcment_celebaStyle/images\", exist_ok=True)\n",
    "os.makedirs(\"../attack_results/reinforcment_celebaStyle/models\", exist_ok=True)"
   ]
  },
  {
   "cell_type": "markdown",
   "metadata": {},
   "source": [
    "### Attack Loop"
   ]
  },
  {
   "cell_type": "code",
   "execution_count": 8,
   "metadata": {},
   "outputs": [
    {
     "name": "stdout",
     "output_type": "stream",
     "text": [
      "Target Label : 0\n",
      "Setting up PyTorch plugin \"bias_act_plugin\"... Done.\n",
      "Setting up PyTorch plugin \"upfirdn2d_plugin\"... Done.\n",
      "Episodes 10000/100000, Confidence score for the target model : 0.0254\n",
      "Episodes 20000/100000, Confidence score for the target model : 0.2517\n",
      "Episodes 30000/100000, Confidence score for the target model : 0.2517\n",
      "Episodes 40000/100000, Confidence score for the target model : 0.3175\n",
      "Episodes 50000/100000, Confidence score for the target model : 0.5795\n",
      "Episodes 60000/100000, Confidence score for the target model : 0.5795\n",
      "Episodes 70000/100000, Confidence score for the target model : 0.9785\n",
      "Episodes 80000/100000, Confidence score for the target model : 0.9844\n",
      "Episodes 90000/100000, Confidence score for the target model : 0.9844\n",
      "Episodes 100000/100000, Confidence score for the target model : 0.9844\n",
      "Classes 1/10, Accuracy : 1.000, Top-5 Accuracy : 1.000\n",
      "duration for 100000 episodes: 8516.75\n"
     ]
    }
   ],
   "source": [
    "for i in targets:\n",
    "        start = time.time()\n",
    "        agent = Agent(state_size=G.z_dim, action_size=G.z_dim, random_seed=SEED, hidden_size=256, action_prior=\"uniform\")\n",
    "        recon_image = inversion_stylegan(agent, G, T, ALPHA, z_dim=G.z_dim, max_episodes=MAX_EPISODES, max_step=MAX_STEP, label=i, model_name=MODEL_NAME)\n",
    "        # output= E(low2high(recon_image))\n",
    "        output = E(recon_image)\n",
    "        eval_prob = F.softmax(output[1], dim=1)\n",
    "        top_idx = torch.argmax(eval_prob)\n",
    "        _, top5_idx = torch.topk(eval_prob, 5)\n",
    "\n",
    "        total += 1\n",
    "        if top_idx == i:\n",
    "            cnt += 1\n",
    "        if i in top5_idx:\n",
    "            cnt5 += 1\n",
    "\n",
    "        acc = cnt / total\n",
    "        acc5 = cnt5 / total\n",
    "        print(\"Classes {}/{}, Accuracy : {:.3f}, Top-5 Accuracy : {:.3f}\".format(total, N_TARGET, acc, acc5))\n",
    "        end = time.time()\n",
    "        total_time = end-start\n",
    "        print(f\"duration for {MAX_EPISODES} episodes: {total_time:.2f}\")"
   ]
  },
  {
   "cell_type": "code",
   "execution_count": null,
   "metadata": {},
   "outputs": [],
   "source": []
  }
 ],
 "metadata": {
  "kernelspec": {
   "display_name": "mldev",
   "language": "python",
   "name": "python3"
  },
  "language_info": {
   "codemirror_mode": {
    "name": "ipython",
    "version": 3
   },
   "file_extension": ".py",
   "mimetype": "text/x-python",
   "name": "python",
   "nbconvert_exporter": "python",
   "pygments_lexer": "ipython3",
   "version": "3.10.13"
  }
 },
 "nbformat": 4,
 "nbformat_minor": 2
}
