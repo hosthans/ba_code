{
 "cells": [
  {
   "cell_type": "code",
   "execution_count": 1,
   "metadata": {},
   "outputs": [],
   "source": [
    "from utils.trainer import Trainer"
   ]
  },
  {
   "cell_type": "markdown",
   "metadata": {},
   "source": [
    "### set training parameters"
   ]
  },
  {
   "cell_type": "code",
   "execution_count": 2,
   "metadata": {},
   "outputs": [],
   "source": [
    "MODEL_TYPE = \"VGG16\"\n",
    "DATASET_TYPE = \"MNIST_SPLIT\"\n",
    "TRAINING_MODE = \"nn\"\n",
    "local = True"
   ]
  },
  {
   "cell_type": "markdown",
   "metadata": {},
   "source": [
    "### initialize Trainer Instance"
   ]
  },
  {
   "cell_type": "code",
   "execution_count": 3,
   "metadata": {},
   "outputs": [
    {
     "name": "stdout",
     "output_type": "stream",
     "text": [
      "{'mainDS': 'mnist', 'gray': True, 'torch': True, 'num_classes': 10, 'local': True}\n",
      "load dataset from directory\n",
      "load grayscale dataset \n",
      "\n",
      "\n"
     ]
    },
    {
     "name": "stderr",
     "output_type": "stream",
     "text": [
      "/home/bot/anaconda3/envs/torch-gpu/lib/python3.10/site-packages/torchvision/models/_utils.py:208: UserWarning: The parameter 'pretrained' is deprecated since 0.13 and may be removed in the future, please use 'weights' instead.\n",
      "  warnings.warn(\n",
      "/home/bot/anaconda3/envs/torch-gpu/lib/python3.10/site-packages/torchvision/models/_utils.py:223: UserWarning: Arguments other than a weight enum or `None` for 'weights' are deprecated since 0.13 and may be removed in the future. The current behavior is equivalent to passing `weights=None`.\n",
      "  warnings.warn(msg)\n"
     ]
    },
    {
     "name": "stdout",
     "output_type": "stream",
     "text": [
      "Training-Process started!\n"
     ]
    },
    {
     "name": "stderr",
     "output_type": "stream",
     "text": [
      "/home/bot/anaconda3/envs/torch-gpu/lib/python3.10/site-packages/torchvision/transforms/functional.py:1603: UserWarning: The default value of the antialias parameter of all the resizing transforms (Resize(), RandomResizedCrop(), etc.) will change from None to True in v0.17, in order to be consistent across the PIL and Tensor backends. To suppress this warning, directly pass antialias=True (recommended, future default), antialias=None (current default, which means False for Tensors and True for PIL), or antialias=False (only works on Tensors - PIL will still use antialiasing). This also applies if you are using the inference transforms from the models weights: update the call to weights.transforms(antialias=True).\n",
      "  warnings.warn(\n"
     ]
    },
    {
     "name": "stdout",
     "output_type": "stream",
     "text": [
      "Epoch:0\tTime:53.34\tTrain Loss:0.13\tTrain Acc:96.15\tTest Acc98.40\n",
      "Epoch:1\tTime:52.35\tTrain Loss:0.03\tTrain Acc:99.12\tTest Acc98.64\n",
      "Epoch:2\tTime:52.35\tTrain Loss:0.01\tTrain Acc:99.66\tTest Acc98.94\n",
      "Epoch:3\tTime:53.16\tTrain Loss:0.01\tTrain Acc:99.83\tTest Acc99.10\n",
      "Epoch:4\tTime:53.28\tTrain Loss:0.00\tTrain Acc:99.96\tTest Acc99.20\n",
      "Epoch:5\tTime:53.67\tTrain Loss:0.00\tTrain Acc:99.97\tTest Acc99.17\n",
      "Epoch:6\tTime:52.85\tTrain Loss:0.00\tTrain Acc:99.99\tTest Acc99.18\n",
      "Epoch:7\tTime:52.01\tTrain Loss:0.00\tTrain Acc:100.00\tTest Acc99.19\n",
      "Epoch:8\tTime:51.99\tTrain Loss:0.00\tTrain Acc:99.99\tTest Acc99.21\n",
      "Epoch:9\tTime:52.08\tTrain Loss:0.00\tTrain Acc:100.00\tTest Acc99.24\n"
     ]
    }
   ],
   "source": [
    "trainer = Trainer(model_type=MODEL_TYPE, dataset=DATASET_TYPE, mode=TRAINING_MODE, local=True)"
   ]
  },
  {
   "cell_type": "code",
   "execution_count": null,
   "metadata": {},
   "outputs": [],
   "source": []
  }
 ],
 "metadata": {
  "kernelspec": {
   "display_name": "torch-gpu",
   "language": "python",
   "name": "python3"
  },
  "language_info": {
   "codemirror_mode": {
    "name": "ipython",
    "version": 3
   },
   "file_extension": ".py",
   "mimetype": "text/x-python",
   "name": "python",
   "nbconvert_exporter": "python",
   "pygments_lexer": "ipython3",
   "version": "3.10.13"
  }
 },
 "nbformat": 4,
 "nbformat_minor": 2
}
