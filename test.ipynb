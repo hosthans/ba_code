{
 "cells": [
  {
   "cell_type": "code",
   "execution_count": 2,
   "metadata": {},
   "outputs": [],
   "source": [
    "import torch\n",
    "from training.model.gan import Generator"
   ]
  },
  {
   "cell_type": "code",
   "execution_count": 10,
   "metadata": {},
   "outputs": [
    {
     "data": {
      "text/plain": [
       "DataParallel(\n",
       "  (module): Generator(\n",
       "    (l1): Sequential(\n",
       "      (0): Linear(in_features=100, out_features=8192, bias=False)\n",
       "      (1): BatchNorm1d(8192, eps=1e-05, momentum=0.1, affine=True, track_running_stats=True)\n",
       "      (2): ReLU()\n",
       "    )\n",
       "    (l2_5): Sequential(\n",
       "      (0): Sequential(\n",
       "        (0): ConvTranspose2d(512, 256, kernel_size=(5, 5), stride=(2, 2), padding=(2, 2), output_padding=(1, 1), bias=False)\n",
       "        (1): BatchNorm2d(256, eps=1e-05, momentum=0.1, affine=True, track_running_stats=True)\n",
       "        (2): ReLU()\n",
       "      )\n",
       "      (1): Sequential(\n",
       "        (0): ConvTranspose2d(256, 128, kernel_size=(5, 5), stride=(2, 2), padding=(2, 2), output_padding=(1, 1), bias=False)\n",
       "        (1): BatchNorm2d(128, eps=1e-05, momentum=0.1, affine=True, track_running_stats=True)\n",
       "        (2): ReLU()\n",
       "      )\n",
       "      (2): Sequential(\n",
       "        (0): ConvTranspose2d(128, 64, kernel_size=(5, 5), stride=(2, 2), padding=(2, 2), output_padding=(1, 1), bias=False)\n",
       "        (1): BatchNorm2d(64, eps=1e-05, momentum=0.1, affine=True, track_running_stats=True)\n",
       "        (2): ReLU()\n",
       "      )\n",
       "      (3): ConvTranspose2d(64, 3, kernel_size=(5, 5), stride=(2, 2), padding=(2, 2), output_padding=(1, 1))\n",
       "      (4): Sigmoid()\n",
       "    )\n",
       "  )\n",
       ")"
      ]
     },
     "execution_count": 10,
     "metadata": {},
     "output_type": "execute_result"
    }
   ],
   "source": [
    "G = Generator(100)\n",
    "path_G = \"training/data/model_data/gan/GeneratorMNISTDCGAN.tar\"\n",
    "G = torch.nn.DataParallel(G).cuda()\n",
    "G.load_state_dict(torch.load(path_G)['state_dict'], strict=False)\n",
    "G.eval()"
   ]
  },
  {
   "cell_type": "code",
   "execution_count": 11,
   "metadata": {},
   "outputs": [],
   "source": [
    "z = torch.randn(1, 100).cuda()"
   ]
  },
  {
   "cell_type": "code",
   "execution_count": 12,
   "metadata": {},
   "outputs": [
    {
     "name": "stdout",
     "output_type": "stream",
     "text": [
      "tensor([[ 0.1602, -0.1151,  1.4063,  0.9575,  1.4021, -1.5225, -0.0197,  0.0405,\n",
      "         -0.7053,  0.7077,  0.1694, -0.4803, -2.0226, -0.9168, -0.6084, -0.0260,\n",
      "         -0.7279,  1.9697, -0.6135, -1.0591,  1.8457, -2.0999, -0.5984, -0.6146,\n",
      "          1.0388,  1.1314, -0.2828, -0.8938, -1.0170,  0.4248, -1.1180, -0.7137,\n",
      "         -1.7714, -0.9519, -0.5356,  0.3570, -0.7848, -1.1858, -0.2654,  0.6652,\n",
      "          1.9517,  0.3115, -0.1711,  0.0121, -1.2035,  0.6329,  0.9169, -1.4460,\n",
      "          0.9846,  0.3743, -0.6703, -0.4075,  0.2771, -1.7611,  0.1729,  0.3725,\n",
      "         -0.4473, -1.2307, -2.3108, -0.3540,  0.9328,  0.2434,  1.0360,  0.7651,\n",
      "          0.6059, -0.1426, -0.0319, -1.8294,  0.4138,  0.5624, -0.0750, -1.3793,\n",
      "          0.9579, -0.0174, -1.6164,  2.2742, -1.2023,  0.0919, -1.0839,  0.4525,\n",
      "         -1.3396,  0.1294, -2.5136,  0.4053,  1.3059, -0.1874, -1.7503,  1.7442,\n",
      "          0.8297, -0.1797, -0.5669, -0.2244, -1.1077, -0.6486,  0.5099,  1.1005,\n",
      "          1.2141,  2.3875, -1.0051, -0.2036]], device='cuda:0')\n"
     ]
    }
   ],
   "source": [
    "print(z)"
   ]
  },
  {
   "cell_type": "code",
   "execution_count": 13,
   "metadata": {},
   "outputs": [],
   "source": [
    "image = G(z)"
   ]
  },
  {
   "cell_type": "code",
   "execution_count": null,
   "metadata": {},
   "outputs": [],
   "source": []
  }
 ],
 "metadata": {
  "kernelspec": {
   "display_name": "torch-gpu",
   "language": "python",
   "name": "python3"
  },
  "language_info": {
   "codemirror_mode": {
    "name": "ipython",
    "version": 3
   },
   "file_extension": ".py",
   "mimetype": "text/x-python",
   "name": "python",
   "nbconvert_exporter": "python",
   "pygments_lexer": "ipython3",
   "version": "3.10.13"
  }
 },
 "nbformat": 4,
 "nbformat_minor": 2
}
