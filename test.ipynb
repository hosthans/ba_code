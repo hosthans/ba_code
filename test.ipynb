{
 "cells": [
  {
   "cell_type": "code",
   "execution_count": 1,
   "metadata": {},
   "outputs": [],
   "source": [
    "from utils.trainer import Trainer"
   ]
  },
  {
   "cell_type": "code",
   "execution_count": 2,
   "metadata": {},
   "outputs": [
    {
     "name": "stdout",
     "output_type": "stream",
     "text": [
      "load dataset from directory\n",
      "load grayscale dataset \n",
      "\n",
      "\n",
      "Training-Process started!\n"
     ]
    },
    {
     "name": "stderr",
     "output_type": "stream",
     "text": [
      "/home/bot/anaconda3/envs/mldev/lib/python3.11/site-packages/torchvision/transforms/functional.py:1603: UserWarning: The default value of the antialias parameter of all the resizing transforms (Resize(), RandomResizedCrop(), etc.) will change from None to True in v0.17, in order to be consistent across the PIL and Tensor backends. To suppress this warning, directly pass antialias=True (recommended, future default), antialias=None (current default, which means False for Tensors and True for PIL), or antialias=False (only works on Tensors - PIL will still use antialiasing). This also applies if you are using the inference transforms from the models weights: update the call to weights.transforms(antialias=True).\n",
      "  warnings.warn(\n"
     ]
    },
    {
     "name": "stdout",
     "output_type": "stream",
     "text": [
      "Epoch:0 \t Time:72.53310108184814 \t Generator loss: 307.065185546875\n",
      "Epoch:1 \t Time:73.30178594589233 \t Generator loss: 476.3542785644531\n",
      "Epoch:2 \t Time:72.89619278907776 \t Generator loss: 553.7069091796875\n",
      "Epoch:3 \t Time:74.06940078735352 \t Generator loss: 574.06591796875\n",
      "Epoch:4 \t Time:75.02767992019653 \t Generator loss: 601.1326293945312\n",
      "Epoch:5 \t Time:75.43278670310974 \t Generator loss: 642.556396484375\n",
      "Epoch:6 \t Time:75.63140535354614 \t Generator loss: 626.9313354492188\n",
      "Epoch:7 \t Time:74.61148715019226 \t Generator loss: 633.1015625\n",
      "Epoch:8 \t Time:74.53072953224182 \t Generator loss: 651.3137817382812\n",
      "Epoch:9 \t Time:74.79684805870056 \t Generator loss: 716.4041137695312\n",
      "Epoch:10 \t Time:74.92735075950623 \t Generator loss: 656.6495971679688\n",
      "Epoch:11 \t Time:73.82913517951965 \t Generator loss: 655.91162109375\n",
      "Epoch:12 \t Time:66.976233959198 \t Generator loss: 631.793701171875\n",
      "Epoch:13 \t Time:66.97762084007263 \t Generator loss: 636.6717529296875\n",
      "Epoch:14 \t Time:66.9832992553711 \t Generator loss: 721.8460083007812\n",
      "Epoch:15 \t Time:67.05288028717041 \t Generator loss: 668.6649169921875\n",
      "Epoch:16 \t Time:67.02570343017578 \t Generator loss: 666.026123046875\n",
      "Epoch:17 \t Time:67.12619709968567 \t Generator loss: 686.7322998046875\n",
      "Epoch:18 \t Time:67.05364727973938 \t Generator loss: 668.7325439453125\n",
      "Epoch:19 \t Time:67.12035369873047 \t Generator loss: 630.5949096679688\n",
      "Epoch:20 \t Time:67.0633316040039 \t Generator loss: 687.6436767578125\n",
      "Epoch:21 \t Time:72.01951575279236 \t Generator loss: 682.4826049804688\n",
      "Epoch:22 \t Time:77.02462434768677 \t Generator loss: 688.5377807617188\n",
      "Epoch:23 \t Time:76.76724815368652 \t Generator loss: 684.7981567382812\n",
      "Epoch:24 \t Time:76.45571970939636 \t Generator loss: 661.1798706054688\n",
      "Epoch:25 \t Time:76.26877903938293 \t Generator loss: 660.6880493164062\n",
      "Epoch:26 \t Time:76.05261135101318 \t Generator loss: 689.0411376953125\n",
      "Epoch:27 \t Time:75.800124168396 \t Generator loss: 714.4981689453125\n",
      "Epoch:28 \t Time:71.53803277015686 \t Generator loss: 663.7329711914062\n",
      "Epoch:29 \t Time:68.95757508277893 \t Generator loss: 679.1607666015625\n",
      "Epoch:30 \t Time:69.06393623352051 \t Generator loss: 689.7247314453125\n",
      "Epoch:31 \t Time:69.01423501968384 \t Generator loss: 745.507080078125\n",
      "Epoch:32 \t Time:69.31470847129822 \t Generator loss: 714.3067016601562\n",
      "Epoch:33 \t Time:67.2080283164978 \t Generator loss: 717.730224609375\n",
      "Epoch:34 \t Time:67.12188696861267 \t Generator loss: 697.7809448242188\n",
      "Epoch:35 \t Time:67.17119240760803 \t Generator loss: 683.2923583984375\n",
      "Epoch:36 \t Time:67.18662095069885 \t Generator loss: 717.776611328125\n",
      "Epoch:37 \t Time:67.21043729782104 \t Generator loss: 675.7554931640625\n",
      "Epoch:38 \t Time:67.19757103919983 \t Generator loss: 709.8309936523438\n",
      "Epoch:39 \t Time:67.1944317817688 \t Generator loss: 697.74169921875\n",
      "Epoch:40 \t Time:69.78631019592285 \t Generator loss: 692.3872680664062\n",
      "Epoch:41 \t Time:70.62819647789001 \t Generator loss: 710.4127197265625\n",
      "Epoch:42 \t Time:75.94074296951294 \t Generator loss: 708.6027221679688\n",
      "Epoch:43 \t Time:76.97931146621704 \t Generator loss: 699.5317993164062\n",
      "Epoch:44 \t Time:76.64840888977051 \t Generator loss: 714.5861206054688\n",
      "Epoch:45 \t Time:76.49999475479126 \t Generator loss: 723.6004028320312\n",
      "Epoch:46 \t Time:76.92956399917603 \t Generator loss: 719.9537353515625\n",
      "Epoch:47 \t Time:76.2658007144928 \t Generator loss: 697.3211669921875\n",
      "Epoch:48 \t Time:76.47632837295532 \t Generator loss: 691.5447998046875\n",
      "Epoch:49 \t Time:76.46451830863953 \t Generator loss: 726.5684814453125\n",
      "Epoch:50 \t Time:76.42993021011353 \t Generator loss: 698.607666015625\n",
      "Epoch:51 \t Time:70.71938824653625 \t Generator loss: 688.3140258789062\n",
      "Epoch:52 \t Time:69.56432366371155 \t Generator loss: 703.6365966796875\n",
      "Epoch:53 \t Time:69.60997343063354 \t Generator loss: 676.611328125\n",
      "Epoch:54 \t Time:69.5783417224884 \t Generator loss: 697.2366333007812\n",
      "Epoch:55 \t Time:69.38576292991638 \t Generator loss: 703.5062255859375\n",
      "Epoch:56 \t Time:67.35295224189758 \t Generator loss: 704.187255859375\n",
      "Epoch:57 \t Time:67.31205821037292 \t Generator loss: 743.1351318359375\n",
      "Epoch:58 \t Time:67.31897068023682 \t Generator loss: 719.8262939453125\n",
      "Epoch:59 \t Time:67.28688192367554 \t Generator loss: 695.3341064453125\n",
      "Epoch:60 \t Time:67.3534517288208 \t Generator loss: 690.0490112304688\n",
      "Epoch:61 \t Time:67.3164131641388 \t Generator loss: 714.8733520507812\n",
      "Epoch:62 \t Time:67.35663771629333 \t Generator loss: 705.263916015625\n",
      "Epoch:63 \t Time:67.32690691947937 \t Generator loss: 695.7684326171875\n",
      "Epoch:64 \t Time:67.36689233779907 \t Generator loss: 700.857421875\n",
      "Epoch:65 \t Time:67.37238335609436 \t Generator loss: 696.4615478515625\n",
      "Epoch:66 \t Time:67.32522177696228 \t Generator loss: 726.8963623046875\n",
      "Epoch:67 \t Time:67.3650918006897 \t Generator loss: 698.7559814453125\n",
      "Epoch:68 \t Time:67.33484220504761 \t Generator loss: 724.1536865234375\n",
      "Epoch:69 \t Time:67.37164330482483 \t Generator loss: 719.5948486328125\n",
      "Epoch:70 \t Time:67.32915759086609 \t Generator loss: 683.906982421875\n",
      "Epoch:71 \t Time:67.37448167800903 \t Generator loss: 700.5455322265625\n",
      "Epoch:72 \t Time:67.32932448387146 \t Generator loss: 687.976318359375\n",
      "Epoch:73 \t Time:67.37367153167725 \t Generator loss: 709.55810546875\n",
      "Epoch:74 \t Time:67.37695550918579 \t Generator loss: 708.7755126953125\n",
      "Epoch:75 \t Time:67.34718894958496 \t Generator loss: 698.20458984375\n",
      "Epoch:76 \t Time:67.38318514823914 \t Generator loss: 724.1756591796875\n",
      "Epoch:77 \t Time:67.34330725669861 \t Generator loss: 730.6748046875\n",
      "Epoch:78 \t Time:67.3995349407196 \t Generator loss: 715.7752685546875\n",
      "Epoch:79 \t Time:67.33973860740662 \t Generator loss: 693.5635986328125\n",
      "Epoch:80 \t Time:67.38346123695374 \t Generator loss: 700.86181640625\n",
      "Epoch:81 \t Time:67.3468587398529 \t Generator loss: 694.1015625\n",
      "Epoch:82 \t Time:67.361252784729 \t Generator loss: 688.685546875\n",
      "Epoch:83 \t Time:67.39056515693665 \t Generator loss: 717.5343017578125\n",
      "Epoch:84 \t Time:68.04590392112732 \t Generator loss: 686.270263671875\n",
      "Epoch:85 \t Time:72.66916084289551 \t Generator loss: 714.8828125\n",
      "Epoch:86 \t Time:76.44502806663513 \t Generator loss: 695.1712646484375\n",
      "Epoch:87 \t Time:77.09437251091003 \t Generator loss: 716.7825927734375\n",
      "Epoch:88 \t Time:76.56252455711365 \t Generator loss: 728.5859375\n",
      "Epoch:89 \t Time:76.47683882713318 \t Generator loss: 726.953857421875\n",
      "Epoch:90 \t Time:76.46841096878052 \t Generator loss: 714.719482421875\n",
      "Epoch:91 \t Time:76.63153576850891 \t Generator loss: 707.2134399414062\n",
      "Epoch:92 \t Time:77.28719639778137 \t Generator loss: 719.6468505859375\n",
      "Epoch:93 \t Time:77.13469672203064 \t Generator loss: 745.579345703125\n",
      "Epoch:94 \t Time:78.4225583076477 \t Generator loss: 725.9803466796875\n",
      "Epoch:95 \t Time:76.71971225738525 \t Generator loss: 709.2530517578125\n",
      "Epoch:96 \t Time:77.25192999839783 \t Generator loss: 731.0304565429688\n",
      "Epoch:97 \t Time:78.27168011665344 \t Generator loss: 721.3179931640625\n",
      "Epoch:98 \t Time:77.82167077064514 \t Generator loss: 726.701904296875\n",
      "Epoch:99 \t Time:76.45939016342163 \t Generator loss: 734.8245849609375\n"
     ]
    }
   ],
   "source": [
    "trainer = Trainer(\"gan\", \"fmnist\", \"gan\")"
   ]
  },
  {
   "cell_type": "code",
   "execution_count": null,
   "metadata": {},
   "outputs": [],
   "source": []
  },
  {
   "cell_type": "code",
   "execution_count": null,
   "metadata": {},
   "outputs": [],
   "source": []
  }
 ],
 "metadata": {
  "kernelspec": {
   "display_name": "base",
   "language": "python",
   "name": "python3"
  },
  "language_info": {
   "codemirror_mode": {
    "name": "ipython",
    "version": 3
   },
   "file_extension": ".py",
   "mimetype": "text/x-python",
   "name": "python",
   "nbconvert_exporter": "python",
   "pygments_lexer": "ipython3",
   "version": "3.7.16"
  },
  "orig_nbformat": 4
 },
 "nbformat": 4,
 "nbformat_minor": 2
}
