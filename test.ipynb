{
 "cells": [
  {
   "cell_type": "code",
   "execution_count": 1,
   "metadata": {},
   "outputs": [],
   "source": [
    "from utils.trainer import Trainer"
   ]
  },
  {
   "cell_type": "code",
   "execution_count": 2,
   "metadata": {},
   "outputs": [
    {
     "name": "stdout",
     "output_type": "stream",
     "text": [
      "load dataset from directory\n",
      "Training-Process started!\n"
     ]
    },
    {
     "name": "stderr",
     "output_type": "stream",
     "text": [
      "c:\\Users\\hanwe\\.conda\\envs\\gpu\\lib\\site-packages\\torchvision\\transforms\\functional.py:1603: UserWarning: The default value of the antialias parameter of all the resizing transforms (Resize(), RandomResizedCrop(), etc.) will change from None to True in v0.17, in order to be consistent across the PIL and Tensor backends. To suppress this warning, directly pass antialias=True (recommended, future default), antialias=None (current default, which means False for Tensors and True for PIL), or antialias=False (only works on Tensors - PIL will still use antialiasing). This also applies if you are using the inference transforms from the models weights: update the call to weights.transforms(antialias=True).\n",
      "  warnings.warn(\n"
     ]
    },
    {
     "name": "stdout",
     "output_type": "stream",
     "text": [
      "Epoch:0 \t Time:111.29409337043762 \t Generator loss: 425.84979248046875\n",
      "Epoch:1 \t Time:105.56378936767578 \t Generator loss: 562.4236450195312\n",
      "Epoch:2 \t Time:105.56825613975525 \t Generator loss: 629.6099853515625\n",
      "Epoch:3 \t Time:105.6656436920166 \t Generator loss: 663.5055541992188\n",
      "Epoch:4 \t Time:105.69322752952576 \t Generator loss: 627.7890014648438\n",
      "Epoch:5 \t Time:105.59523582458496 \t Generator loss: 654.494873046875\n",
      "Epoch:6 \t Time:105.49636054039001 \t Generator loss: 671.7431640625\n",
      "Epoch:7 \t Time:105.94276142120361 \t Generator loss: 623.33349609375\n",
      "Epoch:8 \t Time:105.8019471168518 \t Generator loss: 720.1326293945312\n",
      "Epoch:9 \t Time:105.75926208496094 \t Generator loss: 669.3326416015625\n",
      "Epoch:10 \t Time:105.7388846874237 \t Generator loss: 636.9752197265625\n",
      "Epoch:11 \t Time:105.77217841148376 \t Generator loss: 643.2584838867188\n",
      "Epoch:12 \t Time:105.80393147468567 \t Generator loss: 690.469970703125\n",
      "Epoch:13 \t Time:105.75107264518738 \t Generator loss: 712.089111328125\n",
      "Epoch:14 \t Time:105.81889081001282 \t Generator loss: 699.2616577148438\n",
      "Epoch:15 \t Time:106.03350520133972 \t Generator loss: 684.1489868164062\n"
     ]
    }
   ],
   "source": [
    "trainer = Trainer(\"gan\", \"fmnist\", \"gan\")"
   ]
  },
  {
   "cell_type": "code",
   "execution_count": null,
   "metadata": {},
   "outputs": [],
   "source": []
  }
 ],
 "metadata": {
  "kernelspec": {
   "display_name": "base",
   "language": "python",
   "name": "python3"
  },
  "language_info": {
   "codemirror_mode": {
    "name": "ipython",
    "version": 3
   },
   "file_extension": ".py",
   "mimetype": "text/x-python",
   "name": "python",
   "nbconvert_exporter": "python",
   "pygments_lexer": "ipython3",
   "version": "3.9.18"
  },
  "orig_nbformat": 4
 },
 "nbformat": 4,
 "nbformat_minor": 2
}
