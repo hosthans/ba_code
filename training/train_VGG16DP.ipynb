{
 "cells": [
  {
   "cell_type": "code",
   "execution_count": 1,
   "metadata": {},
   "outputs": [],
   "source": [
    "from utils.trainer import Trainer"
   ]
  },
  {
   "cell_type": "code",
   "execution_count": null,
   "metadata": {},
   "outputs": [
    {
     "name": "stdout",
     "output_type": "stream",
     "text": [
      "{'name': 'celeba', 'indices': False, 'gray': False, 'train_file': '../datasets/meta_celeba/trainset.txt', 'test_file': '../datasets/meta_celeba/testset.txt', 'gan_file': '../datasets/meta_celeba/ganset.txt', 'img_path': '../datasets/celeba/img_align_celeba', 'img_gan_path': '../datasets/celeba/img_align_celeba', 'model_name': 'VGG16', 'num_classes': 1000}\n",
      "----------------Loading datasets-----------------\n",
      "Load 27018 images\n",
      "Load 3009 images\n",
      "---------------Loading dataloader----------------\n",
      "DataLoader initialized\n",
      "DataLoader initialized\n"
     ]
    },
    {
     "name": "stderr",
     "output_type": "stream",
     "text": [
      "/home/bot/anaconda3/envs/torch-gpu/lib/python3.10/site-packages/torchvision/models/_utils.py:208: UserWarning: The parameter 'pretrained' is deprecated since 0.13 and may be removed in the future, please use 'weights' instead.\n",
      "  warnings.warn(\n",
      "/home/bot/anaconda3/envs/torch-gpu/lib/python3.10/site-packages/torchvision/models/_utils.py:223: UserWarning: Arguments other than a weight enum or `None` for 'weights' are deprecated since 0.13 and may be removed in the future. The current behavior is equivalent to passing `weights=None`.\n",
      "  warnings.warn(msg)\n"
     ]
    }
   ],
   "source": [
    "trainer = Trainer(dataset=\"celeba\", mode=\"dpnn\")"
   ]
  },
  {
   "cell_type": "code",
   "execution_count": null,
   "metadata": {},
   "outputs": [
    {
     "name": "stdout",
     "output_type": "stream",
     "text": [
      "[]\n"
     ]
    }
   ],
   "source": [
    "trainer.correct_module()"
   ]
  },
  {
   "cell_type": "code",
   "execution_count": null,
   "metadata": {},
   "outputs": [
    {
     "name": "stderr",
     "output_type": "stream",
     "text": [
      "/home/bot/anaconda3/envs/torch-gpu/lib/python3.10/site-packages/opacus/privacy_engine.py:142: UserWarning: Secure RNG turned off. This is perfectly fine for experimentation as it allows for much faster training performance, but remember to turn it on and retrain one last time before production with ``secure_mode`` turned on.\n",
      "  warnings.warn(\n",
      "10/27/2023 15:11:25:WARNING:Ignoring drop_last as it is not compatible with DPDataLoader.\n"
     ]
    },
    {
     "name": "stdout",
     "output_type": "stream",
     "text": [
      "Training-Process started!\n"
     ]
    },
    {
     "name": "stderr",
     "output_type": "stream",
     "text": [
      "/home/bot/anaconda3/envs/torch-gpu/lib/python3.10/site-packages/torch/nn/modules/module.py:1344: UserWarning: Using a non-full backward hook when the forward contains multiple autograd Nodes is deprecated and will be removed in future versions. This hook will be missing some grad_input. Please use register_full_backward_hook to get the documented behavior.\n",
      "  warnings.warn(\"Using a non-full backward hook when the forward contains multiple autograd Nodes \"\n",
      "/home/bot/anaconda3/envs/torch-gpu/lib/python3.10/site-packages/torch/nn/modules/module.py:1309: UserWarning: Using non-full backward hooks on a Module that does not return a single Tensor or a tuple of Tensors is deprecated and will be removed in future versions. This hook will be missing some of the grad_output. Please use register_full_backward_hook to get the documented behavior.\n",
      "  warnings.warn(\"Using non-full backward hooks on a Module that does not return a \"\n",
      "/home/bot/anaconda3/envs/torch-gpu/lib/python3.10/site-packages/opacus/accountants/analysis/prv/prvs.py:50: RuntimeWarning: invalid value encountered in log\n",
      "  z = np.log((np.exp(t) + q - 1) / q)\n"
     ]
    },
    {
     "name": "stdout",
     "output_type": "stream",
     "text": [
      "Train Epoch: 0 \tLoss: 7.066087 (ε = 0.18, δ = 1e-05)test acc: 0.06648936170212766\n",
      "Train Epoch: 1 \tLoss: 7.112133 (ε = 0.24, δ = 1e-05)test acc: 0.13297872340425532\n",
      "Train Epoch: 2 \tLoss: 7.126838 (ε = 0.29, δ = 1e-05)test acc: 0.06648936170212766\n",
      "Train Epoch: 3 \tLoss: 7.168298 (ε = 0.34, δ = 1e-05)test acc: 0.03324468085106383\n",
      "Train Epoch: 4 \tLoss: 7.176472 (ε = 0.38, δ = 1e-05)test acc: 0.2327127659574468\n",
      "Train Epoch: 5 \tLoss: 7.179771 (ε = 0.41, δ = 1e-05)test acc: 0.13297872340425532\n",
      "Train Epoch: 6 \tLoss: 7.207904 (ε = 0.45, δ = 1e-05)test acc: 0.09973404255319149\n",
      "Train Epoch: 7 \tLoss: 7.222999 (ε = 0.48, δ = 1e-05)test acc: 0.09973404255319149\n",
      "Train Epoch: 8 \tLoss: 7.253925 (ε = 0.51, δ = 1e-05)test acc: 0.03324468085106383\n",
      "Train Epoch: 9 \tLoss: 7.280629 (ε = 0.53, δ = 1e-05)test acc: 0.09973404255319149\n",
      "Train Epoch: 10 \tLoss: 7.284254 (ε = 0.56, δ = 1e-05)test acc: 0.19946808510638298\n",
      "Train Epoch: 11 \tLoss: 7.287004 (ε = 0.59, δ = 1e-05)test acc: 0.13297872340425532\n",
      "Train Epoch: 12 \tLoss: 7.292396 (ε = 0.61, δ = 1e-05)test acc: 0.13297872340425532\n",
      "Train Epoch: 13 \tLoss: 7.305358 (ε = 0.64, δ = 1e-05)test acc: 0.03324468085106383\n",
      "Train Epoch: 14 \tLoss: 7.304457 (ε = 0.66, δ = 1e-05)test acc: 0.06648936170212766\n",
      "Train Epoch: 15 \tLoss: 7.292014 (ε = 0.68, δ = 1e-05)test acc: 0.16622340425531915\n",
      "Train Epoch: 16 \tLoss: 7.306296 (ε = 0.70, δ = 1e-05)test acc: 0.09973404255319149\n",
      "Train Epoch: 17 \tLoss: 7.307277 (ε = 0.72, δ = 1e-05)test acc: 0.03324468085106383\n",
      "Train Epoch: 18 \tLoss: 7.317885 (ε = 0.75, δ = 1e-05)test acc: 0.06648936170212766\n",
      "Train Epoch: 19 \tLoss: 7.310498 (ε = 0.77, δ = 1e-05)test acc: 0.0\n",
      "Train Epoch: 20 \tLoss: 7.312220 (ε = 0.79, δ = 1e-05)test acc: 0.09973404255319149\n",
      "Train Epoch: 21 \tLoss: 7.323452 (ε = 0.80, δ = 1e-05)test acc: 0.03324468085106383\n",
      "Train Epoch: 22 \tLoss: 7.322836 (ε = 0.82, δ = 1e-05)test acc: 0.03324468085106383\n",
      "Train Epoch: 23 \tLoss: 7.315991 (ε = 0.84, δ = 1e-05)test acc: 0.2327127659574468\n",
      "Train Epoch: 24 \tLoss: 7.332095 (ε = 0.86, δ = 1e-05)test acc: 0.13297872340425532\n",
      "Train Epoch: 25 \tLoss: 7.308259 (ε = 0.88, δ = 1e-05)test acc: 0.06648936170212766\n",
      "Train Epoch: 26 \tLoss: 7.312217 (ε = 0.90, δ = 1e-05)test acc: 0.09973404255319149\n",
      "Train Epoch: 27 \tLoss: 7.304565 (ε = 0.91, δ = 1e-05)test acc: 0.03324468085106383\n",
      "Train Epoch: 28 \tLoss: 7.281009 (ε = 0.93, δ = 1e-05)test acc: 0.0\n",
      "Train Epoch: 29 \tLoss: 7.293885 (ε = 0.95, δ = 1e-05)test acc: 0.13297872340425532\n"
     ]
    }
   ],
   "source": [
    "trainer.train()"
   ]
  },
  {
   "cell_type": "code",
   "execution_count": null,
   "metadata": {},
   "outputs": [],
   "source": []
  }
 ],
 "metadata": {
  "kernelspec": {
   "display_name": "torch-gpu",
   "language": "python",
   "name": "python3"
  },
  "language_info": {
   "codemirror_mode": {
    "name": "ipython",
    "version": 3
   },
   "file_extension": ".py",
   "mimetype": "text/x-python",
   "name": "python",
   "nbconvert_exporter": "python",
   "pygments_lexer": "ipython3",
   "version": "3.10.13"
  }
 },
 "nbformat": 4,
 "nbformat_minor": 2
}
