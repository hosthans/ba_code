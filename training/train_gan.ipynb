{
 "cells": [
  {
   "cell_type": "code",
   "execution_count": 1,
   "metadata": {},
   "outputs": [],
   "source": [
    "from utils.trainer import Trainer"
   ]
  },
  {
   "cell_type": "code",
   "execution_count": 2,
   "metadata": {},
   "outputs": [
    {
     "name": "stdout",
     "output_type": "stream",
     "text": [
      "{'name': 'celeba', 'indices': False, 'gray': False, 'train_file': '../datasets/meta_celeba/trainset.txt', 'test_file': '../datasets/meta_celeba/testset.txt', 'gan_file': '../datasets/meta_celeba/ganset.txt', 'img_path': '../datasets/celeba/img_align_celeba', 'img_gan_path': '../datasets/celeba/img_align_celeba', 'model_name': 'VGG16', 'num_classes': 1000}\n",
      "----------------Loading datasets-----------------\n",
      "DataLoader initialized\n"
     ]
    }
   ],
   "source": [
    "trainer = Trainer(dataset=\"celeba\", mode=\"gan\")"
   ]
  },
  {
   "cell_type": "code",
   "execution_count": 3,
   "metadata": {},
   "outputs": [
    {
     "name": "stdout",
     "output_type": "stream",
     "text": [
      "Training-Process started!\n",
      "Epoch:0 \t Time:46.03594923019409 \t Generator loss: 10.51626205444336\n",
      "Epoch:1 \t Time:45.48160171508789 \t Generator loss: 8.484867095947266\n",
      "Epoch:2 \t Time:45.609354972839355 \t Generator loss: 8.023332595825195\n",
      "Epoch:3 \t Time:46.011120319366455 \t Generator loss: 7.666506767272949\n",
      "Epoch:4 \t Time:46.317394495010376 \t Generator loss: 8.68285083770752\n",
      "Epoch:5 \t Time:46.67822194099426 \t Generator loss: 6.878815650939941\n",
      "Epoch:6 \t Time:46.79802966117859 \t Generator loss: 9.00875473022461\n",
      "Epoch:7 \t Time:46.92390418052673 \t Generator loss: 8.09783935546875\n",
      "Epoch:8 \t Time:47.0280921459198 \t Generator loss: 6.299419403076172\n",
      "Epoch:9 \t Time:47.3012580871582 \t Generator loss: 7.131160736083984\n",
      "Epoch:10 \t Time:44.245338916778564 \t Generator loss: 6.178552627563477\n",
      "Epoch:11 \t Time:42.79945921897888 \t Generator loss: 5.580644607543945\n",
      "Epoch:12 \t Time:42.75641632080078 \t Generator loss: 6.768439292907715\n",
      "Epoch:13 \t Time:42.82624053955078 \t Generator loss: 4.295670032501221\n",
      "Epoch:14 \t Time:42.97370934486389 \t Generator loss: 4.100275039672852\n",
      "Epoch:15 \t Time:42.826064586639404 \t Generator loss: 2.3940091133117676\n",
      "Epoch:16 \t Time:42.90839338302612 \t Generator loss: 5.104632377624512\n",
      "Epoch:17 \t Time:42.911357402801514 \t Generator loss: 2.9947597980499268\n",
      "Epoch:18 \t Time:42.930588722229004 \t Generator loss: 3.435448169708252\n",
      "Epoch:19 \t Time:42.959370374679565 \t Generator loss: 4.342069625854492\n",
      "Epoch:20 \t Time:42.91464376449585 \t Generator loss: 3.3918685913085938\n",
      "Epoch:21 \t Time:42.95945501327515 \t Generator loss: 2.751662254333496\n",
      "Epoch:22 \t Time:42.9883029460907 \t Generator loss: 3.661731243133545\n",
      "Epoch:23 \t Time:42.93807816505432 \t Generator loss: 2.6964755058288574\n",
      "Epoch:24 \t Time:43.05591654777527 \t Generator loss: 4.244533538818359\n",
      "Epoch:25 \t Time:42.95272660255432 \t Generator loss: 3.7087113857269287\n",
      "Epoch:26 \t Time:43.0022509098053 \t Generator loss: 2.2035632133483887\n",
      "Epoch:27 \t Time:43.00440526008606 \t Generator loss: 3.563915729522705\n",
      "Epoch:28 \t Time:42.965007305145264 \t Generator loss: 2.447805881500244\n",
      "Epoch:29 \t Time:43.07954168319702 \t Generator loss: 3.865633487701416\n",
      "Epoch:30 \t Time:42.950129985809326 \t Generator loss: 5.47698450088501\n",
      "Epoch:31 \t Time:43.053486347198486 \t Generator loss: 4.191460609436035\n",
      "Epoch:32 \t Time:42.95042634010315 \t Generator loss: 5.455700874328613\n",
      "Epoch:33 \t Time:42.99734091758728 \t Generator loss: 4.724520683288574\n",
      "Epoch:34 \t Time:43.019798040390015 \t Generator loss: 6.205464839935303\n",
      "Epoch:35 \t Time:43.026756286621094 \t Generator loss: 4.930214881896973\n",
      "Epoch:36 \t Time:43.07073998451233 \t Generator loss: 5.887406349182129\n",
      "Epoch:37 \t Time:43.00825548171997 \t Generator loss: 5.481047630310059\n",
      "Epoch:38 \t Time:42.9865186214447 \t Generator loss: 6.049220085144043\n",
      "Epoch:39 \t Time:43.09511041641235 \t Generator loss: 4.939384460449219\n",
      "Epoch:40 \t Time:42.95546770095825 \t Generator loss: 8.405817031860352\n",
      "Epoch:41 \t Time:43.034838914871216 \t Generator loss: 6.5328369140625\n",
      "Epoch:42 \t Time:42.96257400512695 \t Generator loss: 5.893132209777832\n",
      "Epoch:43 \t Time:43.12667417526245 \t Generator loss: 7.906018257141113\n",
      "Epoch:44 \t Time:43.1053307056427 \t Generator loss: 8.216695785522461\n",
      "Epoch:45 \t Time:43.030847787857056 \t Generator loss: 7.420650482177734\n",
      "Epoch:46 \t Time:42.98327851295471 \t Generator loss: 7.1629486083984375\n",
      "Epoch:47 \t Time:42.976707458496094 \t Generator loss: 8.102729797363281\n",
      "Epoch:48 \t Time:43.13311433792114 \t Generator loss: 8.806310653686523\n",
      "Epoch:49 \t Time:43.10181641578674 \t Generator loss: 9.414050102233887\n",
      "Epoch:50 \t Time:43.057204723358154 \t Generator loss: 8.69190788269043\n",
      "Epoch:51 \t Time:43.06563091278076 \t Generator loss: 9.721944808959961\n",
      "Epoch:52 \t Time:43.06585454940796 \t Generator loss: 10.58633041381836\n",
      "Epoch:53 \t Time:44.828869581222534 \t Generator loss: 9.837394714355469\n",
      "Epoch:54 \t Time:47.20882034301758 \t Generator loss: 9.214592933654785\n",
      "Epoch:55 \t Time:48.50341010093689 \t Generator loss: 8.335958480834961\n",
      "Epoch:56 \t Time:49.199453353881836 \t Generator loss: 9.413474082946777\n",
      "Epoch:57 \t Time:50.52760982513428 \t Generator loss: 10.931005477905273\n",
      "Epoch:58 \t Time:51.35063934326172 \t Generator loss: 10.984855651855469\n",
      "Epoch:59 \t Time:50.85708022117615 \t Generator loss: 10.220904350280762\n",
      "Epoch:60 \t Time:50.625314712524414 \t Generator loss: 9.877659797668457\n",
      "Epoch:61 \t Time:50.90125584602356 \t Generator loss: 11.128744125366211\n",
      "Epoch:62 \t Time:51.11925554275513 \t Generator loss: 11.612786293029785\n",
      "Epoch:63 \t Time:51.21137881278992 \t Generator loss: 11.07304859161377\n",
      "Epoch:64 \t Time:50.77360439300537 \t Generator loss: 11.756667137145996\n",
      "Epoch:65 \t Time:48.455463886260986 \t Generator loss: 12.596104621887207\n",
      "Epoch:66 \t Time:47.194334506988525 \t Generator loss: 12.057355880737305\n",
      "Epoch:67 \t Time:47.18068265914917 \t Generator loss: 12.773292541503906\n",
      "Epoch:68 \t Time:47.118818044662476 \t Generator loss: 12.532526969909668\n",
      "Epoch:69 \t Time:47.32337021827698 \t Generator loss: 13.352985382080078\n",
      "Epoch:70 \t Time:47.21029186248779 \t Generator loss: 12.43222427368164\n",
      "Epoch:71 \t Time:47.15994644165039 \t Generator loss: 12.511575698852539\n",
      "Epoch:72 \t Time:47.38491249084473 \t Generator loss: 13.571054458618164\n",
      "Epoch:73 \t Time:47.23212909698486 \t Generator loss: 13.261474609375\n",
      "Epoch:74 \t Time:47.36315608024597 \t Generator loss: 15.30783748626709\n",
      "Epoch:75 \t Time:47.13033199310303 \t Generator loss: 13.548137664794922\n",
      "Epoch:76 \t Time:47.208945989608765 \t Generator loss: 12.983682632446289\n",
      "Epoch:77 \t Time:47.17444729804993 \t Generator loss: 14.644746780395508\n",
      "Epoch:78 \t Time:47.370880126953125 \t Generator loss: 14.273355484008789\n",
      "Epoch:79 \t Time:47.511725187301636 \t Generator loss: 14.289563179016113\n",
      "Epoch:80 \t Time:46.6932327747345 \t Generator loss: 15.165695190429688\n",
      "Epoch:81 \t Time:47.79150938987732 \t Generator loss: 15.042919158935547\n",
      "Epoch:82 \t Time:47.782766819000244 \t Generator loss: 15.891717910766602\n",
      "Epoch:83 \t Time:47.86390280723572 \t Generator loss: 16.495929718017578\n",
      "Epoch:84 \t Time:47.78922986984253 \t Generator loss: 17.205909729003906\n",
      "Epoch:85 \t Time:47.547948122024536 \t Generator loss: 15.656883239746094\n",
      "Epoch:86 \t Time:47.63211679458618 \t Generator loss: 16.66585922241211\n",
      "Epoch:87 \t Time:47.75746250152588 \t Generator loss: 16.866132736206055\n",
      "Epoch:88 \t Time:47.729867458343506 \t Generator loss: 17.194454193115234\n",
      "Epoch:89 \t Time:47.74574398994446 \t Generator loss: 17.142074584960938\n",
      "Epoch:90 \t Time:47.680381774902344 \t Generator loss: 17.19744110107422\n",
      "Epoch:91 \t Time:47.43178725242615 \t Generator loss: 17.19482421875\n",
      "Epoch:92 \t Time:47.299821615219116 \t Generator loss: 17.09964370727539\n",
      "Epoch:93 \t Time:46.810447216033936 \t Generator loss: 17.65544319152832\n",
      "Epoch:94 \t Time:47.44016909599304 \t Generator loss: 18.362079620361328\n",
      "Epoch:95 \t Time:46.73233890533447 \t Generator loss: 17.946712493896484\n",
      "Epoch:96 \t Time:47.592385053634644 \t Generator loss: 18.938020706176758\n",
      "Epoch:97 \t Time:46.73189377784729 \t Generator loss: 19.418609619140625\n",
      "Epoch:98 \t Time:46.75453495979309 \t Generator loss: 19.519760131835938\n",
      "Epoch:99 \t Time:46.920419216156006 \t Generator loss: 18.849872589111328\n"
     ]
    }
   ],
   "source": [
    "trainer.train()"
   ]
  },
  {
   "cell_type": "code",
   "execution_count": null,
   "metadata": {},
   "outputs": [],
   "source": []
  }
 ],
 "metadata": {
  "kernelspec": {
   "display_name": "torch-gpu",
   "language": "python",
   "name": "python3"
  },
  "language_info": {
   "codemirror_mode": {
    "name": "ipython",
    "version": 3
   },
   "file_extension": ".py",
   "mimetype": "text/x-python",
   "name": "python",
   "nbconvert_exporter": "python",
   "pygments_lexer": "ipython3",
   "version": "3.10.13"
  }
 },
 "nbformat": 4,
 "nbformat_minor": 2
}
