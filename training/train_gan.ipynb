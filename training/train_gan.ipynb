{
 "cells": [
  {
   "cell_type": "code",
   "execution_count": 1,
   "metadata": {},
   "outputs": [],
   "source": [
    "from utils.trainer import Trainer"
   ]
  },
  {
   "cell_type": "code",
   "execution_count": 2,
   "metadata": {},
   "outputs": [
    {
     "name": "stdout",
     "output_type": "stream",
     "text": [
      "{'name': 'celeba', 'indices': False, 'gray': False, 'train_file': '../datasets/meta_celeba/trainset.txt', 'test_file': '../datasets/meta_celeba/testset.txt', 'gan_file': '../datasets/meta_celeba/ganset.txt', 'img_path': '../datasets/celeba/img_align_celeba', 'img_gan_path': '../datasets/celeba/img_align_celeba', 'model_name': 'VGG16', 'num_classes': 1000}\n",
      "----------------Loading datasets-----------------\n"
     ]
    }
   ],
   "source": [
    "trainer = Trainer(dataset=\"celeba\", mode=\"gan\")"
   ]
  },
  {
   "cell_type": "code",
   "execution_count": 3,
   "metadata": {},
   "outputs": [
    {
     "name": "stdout",
     "output_type": "stream",
     "text": [
      "469\n"
     ]
    }
   ],
   "source": [
    "print(len(trainer.trainloader))"
   ]
  },
  {
   "cell_type": "code",
   "execution_count": 4,
   "metadata": {},
   "outputs": [
    {
     "name": "stdout",
     "output_type": "stream",
     "text": [
      "torch.Size([128, 1, 64, 64])\n"
     ]
    }
   ],
   "source": [
    "for i, (img, l) in enumerate(trainer.trainloader):\n",
    "    print(img.shape)\n",
    "    break"
   ]
  },
  {
   "cell_type": "code",
   "execution_count": 4,
   "metadata": {},
   "outputs": [
    {
     "name": "stdout",
     "output_type": "stream",
     "text": [
      "Training-Process started!\n",
      "Epoch:0 \t Time:71.81853103637695 \t Generator loss: 25.59872055053711\n",
      "Epoch:1 \t Time:72.61691188812256 \t Generator loss: 31.25149154663086\n",
      "Epoch:2 \t Time:73.3097505569458 \t Generator loss: 18.057138442993164\n",
      "Epoch:3 \t Time:73.47843027114868 \t Generator loss: 23.65463638305664\n",
      "Epoch:4 \t Time:69.15904688835144 \t Generator loss: 21.0388126373291\n",
      "Epoch:5 \t Time:66.34678840637207 \t Generator loss: 27.69919204711914\n",
      "Epoch:6 \t Time:66.52866053581238 \t Generator loss: 24.659311294555664\n",
      "Epoch:7 \t Time:66.59894824028015 \t Generator loss: 24.493717193603516\n",
      "Epoch:8 \t Time:66.67252111434937 \t Generator loss: 23.148818969726562\n",
      "Epoch:9 \t Time:66.75140523910522 \t Generator loss: 24.656845092773438\n",
      "Epoch:10 \t Time:66.72435736656189 \t Generator loss: 22.301048278808594\n",
      "Epoch:11 \t Time:66.78258538246155 \t Generator loss: 26.001432418823242\n",
      "Epoch:12 \t Time:66.84404993057251 \t Generator loss: 22.177526473999023\n",
      "Epoch:13 \t Time:66.84776329994202 \t Generator loss: 21.81388282775879\n",
      "Epoch:14 \t Time:66.90145611763 \t Generator loss: 22.425186157226562\n",
      "Epoch:15 \t Time:66.84002113342285 \t Generator loss: 24.45130729675293\n",
      "Epoch:16 \t Time:66.96558809280396 \t Generator loss: 25.00446319580078\n",
      "Epoch:17 \t Time:66.94258761405945 \t Generator loss: 22.261383056640625\n",
      "Epoch:18 \t Time:66.92949438095093 \t Generator loss: 27.60133171081543\n",
      "Epoch:19 \t Time:66.97501969337463 \t Generator loss: 22.272428512573242\n",
      "Epoch:20 \t Time:74.20426225662231 \t Generator loss: 22.09618377685547\n",
      "Epoch:21 \t Time:74.53065705299377 \t Generator loss: 21.933189392089844\n",
      "Epoch:22 \t Time:74.62335872650146 \t Generator loss: 25.41930389404297\n",
      "Epoch:23 \t Time:74.68893623352051 \t Generator loss: 18.429481506347656\n",
      "Epoch:24 \t Time:70.8263430595398 \t Generator loss: 22.291372299194336\n",
      "Epoch:25 \t Time:67.06659460067749 \t Generator loss: 21.188373565673828\n",
      "Epoch:26 \t Time:67.06110548973083 \t Generator loss: 24.332489013671875\n",
      "Epoch:27 \t Time:67.05510401725769 \t Generator loss: 24.22890853881836\n",
      "Epoch:28 \t Time:67.07709980010986 \t Generator loss: 25.830095291137695\n",
      "Epoch:29 \t Time:67.09793829917908 \t Generator loss: 19.561275482177734\n",
      "Epoch:30 \t Time:67.01922678947449 \t Generator loss: 21.82772445678711\n",
      "Epoch:31 \t Time:67.14244246482849 \t Generator loss: 22.613208770751953\n",
      "Epoch:32 \t Time:67.04225969314575 \t Generator loss: 24.212474822998047\n",
      "Epoch:33 \t Time:67.05352330207825 \t Generator loss: 24.446491241455078\n",
      "Epoch:34 \t Time:67.12510395050049 \t Generator loss: 24.94977569580078\n",
      "Epoch:35 \t Time:66.98060441017151 \t Generator loss: 22.09375\n",
      "Epoch:36 \t Time:67.04443407058716 \t Generator loss: 22.774118423461914\n",
      "Epoch:37 \t Time:67.08892464637756 \t Generator loss: 22.924835205078125\n",
      "Epoch:38 \t Time:67.08621215820312 \t Generator loss: 20.85041046142578\n",
      "Epoch:39 \t Time:67.13073253631592 \t Generator loss: 22.761810302734375\n",
      "Epoch:40 \t Time:67.01096248626709 \t Generator loss: 24.09854507446289\n",
      "Epoch:41 \t Time:73.46314358711243 \t Generator loss: 23.917522430419922\n",
      "Epoch:42 \t Time:74.74447870254517 \t Generator loss: 23.311765670776367\n",
      "Epoch:43 \t Time:74.79820609092712 \t Generator loss: 22.873455047607422\n",
      "Epoch:44 \t Time:74.76238107681274 \t Generator loss: 25.321205139160156\n",
      "Epoch:45 \t Time:74.54615473747253 \t Generator loss: 26.006187438964844\n",
      "Epoch:46 \t Time:74.71350860595703 \t Generator loss: 22.43378257751465\n",
      "Epoch:47 \t Time:74.71044254302979 \t Generator loss: 23.123626708984375\n",
      "Epoch:48 \t Time:74.73374223709106 \t Generator loss: 26.18360710144043\n",
      "Epoch:49 \t Time:68.67245364189148 \t Generator loss: 23.694753646850586\n",
      "Epoch:50 \t Time:67.05786561965942 \t Generator loss: 24.08950424194336\n",
      "Epoch:51 \t Time:67.16591048240662 \t Generator loss: 23.448955535888672\n",
      "Epoch:52 \t Time:67.10981488227844 \t Generator loss: 24.100854873657227\n",
      "Epoch:53 \t Time:67.09890007972717 \t Generator loss: 26.281551361083984\n",
      "Epoch:54 \t Time:69.99298930168152 \t Generator loss: 23.583232879638672\n",
      "Epoch:55 \t Time:74.75508856773376 \t Generator loss: 24.321102142333984\n",
      "Epoch:56 \t Time:74.79929661750793 \t Generator loss: 24.992483139038086\n",
      "Epoch:57 \t Time:74.82294368743896 \t Generator loss: 24.709888458251953\n",
      "Epoch:58 \t Time:74.96323800086975 \t Generator loss: 25.91812515258789\n",
      "Epoch:59 \t Time:67.16565990447998 \t Generator loss: 24.4517822265625\n",
      "Epoch:60 \t Time:67.12875938415527 \t Generator loss: 27.09091567993164\n",
      "Epoch:61 \t Time:67.13876056671143 \t Generator loss: 26.297466278076172\n",
      "Epoch:62 \t Time:67.16774392127991 \t Generator loss: 27.19249725341797\n",
      "Epoch:63 \t Time:67.14948058128357 \t Generator loss: 27.027252197265625\n",
      "Epoch:64 \t Time:67.18013715744019 \t Generator loss: 26.756948471069336\n",
      "Epoch:65 \t Time:67.0814049243927 \t Generator loss: 27.553014755249023\n",
      "Epoch:66 \t Time:67.13557195663452 \t Generator loss: 26.12679672241211\n",
      "Epoch:67 \t Time:67.24824571609497 \t Generator loss: 27.4805908203125\n",
      "Epoch:68 \t Time:67.30383062362671 \t Generator loss: 26.5814151763916\n",
      "Epoch:69 \t Time:67.33503246307373 \t Generator loss: 31.143779754638672\n",
      "Epoch:70 \t Time:70.13454031944275 \t Generator loss: 26.799049377441406\n",
      "Epoch:71 \t Time:75.0643699169159 \t Generator loss: 28.76373863220215\n",
      "Epoch:72 \t Time:74.88090538978577 \t Generator loss: 30.12483787536621\n",
      "Epoch:73 \t Time:74.9645791053772 \t Generator loss: 26.471351623535156\n",
      "Epoch:74 \t Time:75.14175462722778 \t Generator loss: 26.871732711791992\n",
      "Epoch:75 \t Time:74.83565378189087 \t Generator loss: 27.79773712158203\n",
      "Epoch:76 \t Time:75.04551434516907 \t Generator loss: 28.580909729003906\n",
      "Epoch:77 \t Time:74.98382616043091 \t Generator loss: 29.635494232177734\n",
      "Epoch:78 \t Time:75.31449437141418 \t Generator loss: 29.015548706054688\n",
      "Epoch:79 \t Time:70.28875303268433 \t Generator loss: 28.915014266967773\n",
      "Epoch:80 \t Time:67.29532361030579 \t Generator loss: 27.769495010375977\n",
      "Epoch:81 \t Time:67.34145522117615 \t Generator loss: 29.309316635131836\n",
      "Epoch:82 \t Time:67.36029839515686 \t Generator loss: 29.288650512695312\n",
      "Epoch:83 \t Time:67.3637182712555 \t Generator loss: 28.745319366455078\n",
      "Epoch:84 \t Time:67.40680718421936 \t Generator loss: 28.364376068115234\n",
      "Epoch:85 \t Time:69.45346784591675 \t Generator loss: 28.425508499145508\n",
      "Epoch:86 \t Time:76.90517115592957 \t Generator loss: 27.953792572021484\n",
      "Epoch:87 \t Time:75.9298768043518 \t Generator loss: 27.74343490600586\n",
      "Epoch:88 \t Time:75.76727890968323 \t Generator loss: 27.494972229003906\n",
      "Epoch:89 \t Time:75.40036344528198 \t Generator loss: 28.259519577026367\n",
      "Epoch:90 \t Time:75.0295820236206 \t Generator loss: 32.4132080078125\n",
      "Epoch:91 \t Time:75.4759030342102 \t Generator loss: 29.19475555419922\n",
      "Epoch:92 \t Time:75.23017001152039 \t Generator loss: 29.55219268798828\n",
      "Epoch:93 \t Time:75.44711947441101 \t Generator loss: 31.158578872680664\n",
      "Epoch:94 \t Time:74.83633685112 \t Generator loss: 31.659000396728516\n",
      "Epoch:95 \t Time:75.5201518535614 \t Generator loss: 32.607879638671875\n",
      "Epoch:96 \t Time:75.24388694763184 \t Generator loss: 31.01907730102539\n",
      "Epoch:97 \t Time:75.01281237602234 \t Generator loss: 32.899139404296875\n",
      "Epoch:98 \t Time:74.85953855514526 \t Generator loss: 31.2748966217041\n",
      "Epoch:99 \t Time:74.89724826812744 \t Generator loss: 33.97294616699219\n"
     ]
    }
   ],
   "source": [
    "trainer.train()"
   ]
  },
  {
   "cell_type": "code",
   "execution_count": null,
   "metadata": {},
   "outputs": [],
   "source": []
  }
 ],
 "metadata": {
  "kernelspec": {
   "display_name": "torch-gpu",
   "language": "python",
   "name": "python3"
  },
  "language_info": {
   "codemirror_mode": {
    "name": "ipython",
    "version": 3
   },
   "file_extension": ".py",
   "mimetype": "text/x-python",
   "name": "python",
   "nbconvert_exporter": "python",
   "pygments_lexer": "ipython3",
   "version": "3.10.13"
  }
 },
 "nbformat": 4,
 "nbformat_minor": 2
}
