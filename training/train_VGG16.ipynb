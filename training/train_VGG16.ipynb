{
 "cells": [
  {
   "cell_type": "code",
   "execution_count": 1,
   "metadata": {},
   "outputs": [],
   "source": [
    "from utils.trainer import Trainer"
   ]
  },
  {
   "cell_type": "code",
   "execution_count": null,
   "metadata": {},
   "outputs": [
    {
     "name": "stdout",
     "output_type": "stream",
     "text": [
      "{'name': 'celeba', 'indices': False, 'gray': False, 'train_file': '../datasets/meta_celeba/trainset.txt', 'test_file': '../datasets/meta_celeba/testset.txt', 'gan_file': '../datasets/meta_celeba/ganset.txt', 'img_path': '../datasets/celeba/img_align_celeba', 'model_name': 'VGG16', 'num_classes': 1000}\n",
      "----------------Loading datasets-----------------\n",
      "Load 27018 images\n",
      "Load 3009 images\n",
      "---------------Loading dataloader----------------\n",
      "DataLoader initialized\n",
      "DataLoader initialized\n"
     ]
    },
    {
     "name": "stderr",
     "output_type": "stream",
     "text": [
      "/home/bot/anaconda3/envs/torch-gpu/lib/python3.10/site-packages/torchvision/models/_utils.py:208: UserWarning: The parameter 'pretrained' is deprecated since 0.13 and may be removed in the future, please use 'weights' instead.\n",
      "  warnings.warn(\n",
      "/home/bot/anaconda3/envs/torch-gpu/lib/python3.10/site-packages/torchvision/models/_utils.py:223: UserWarning: Arguments other than a weight enum or `None` for 'weights' are deprecated since 0.13 and may be removed in the future. The current behavior is equivalent to passing `weights=None`.\n",
      "  warnings.warn(msg)\n"
     ]
    }
   ],
   "source": [
    "trainer = Trainer(dataset=\"celeba\", mode=\"nn\")"
   ]
  },
  {
   "cell_type": "code",
   "execution_count": 3,
   "metadata": {},
   "outputs": [
    {
     "name": "stdout",
     "output_type": "stream",
     "text": [
      "Training-Process started!\n",
      "Epoch:0\tTime:42.05\tTrain Loss:6.53\tTrain Acc:1.16\tTest Acc3.32\n",
      "Epoch:1\tTime:41.24\tTrain Loss:5.40\tTrain Acc:6.59\tTest Acc11.57\n",
      "Epoch:2\tTime:41.89\tTrain Loss:4.38\tTrain Acc:18.94\tTest Acc20.88\n",
      "Epoch:3\tTime:42.93\tTrain Loss:3.49\tTrain Acc:34.51\tTest Acc32.35\n",
      "Epoch:4\tTime:42.14\tTrain Loss:2.75\tTrain Acc:48.77\tTest Acc42.75\n",
      "Epoch:5\tTime:41.75\tTrain Loss:2.13\tTrain Acc:61.32\tTest Acc48.60\n",
      "Epoch:6\tTime:42.66\tTrain Loss:1.61\tTrain Acc:71.76\tTest Acc54.26\n",
      "Epoch:7\tTime:43.25\tTrain Loss:1.19\tTrain Acc:80.89\tTest Acc58.08\n",
      "Epoch:8\tTime:42.19\tTrain Loss:0.86\tTrain Acc:87.69\tTest Acc60.07\n",
      "Epoch:9\tTime:42.89\tTrain Loss:0.61\tTrain Acc:92.86\tTest Acc61.67\n",
      "Epoch:10\tTime:42.80\tTrain Loss:0.42\tTrain Acc:95.99\tTest Acc63.56\n",
      "Epoch:11\tTime:40.46\tTrain Loss:0.28\tTrain Acc:98.06\tTest Acc64.73\n",
      "Epoch:12\tTime:39.61\tTrain Loss:0.18\tTrain Acc:98.97\tTest Acc66.06\n",
      "Epoch:13\tTime:39.67\tTrain Loss:0.13\tTrain Acc:99.45\tTest Acc66.89\n",
      "Epoch:14\tTime:39.77\tTrain Loss:0.09\tTrain Acc:99.70\tTest Acc67.62\n",
      "Epoch:15\tTime:39.83\tTrain Loss:0.07\tTrain Acc:99.83\tTest Acc67.39\n",
      "Epoch:16\tTime:40.02\tTrain Loss:0.05\tTrain Acc:99.89\tTest Acc67.72\n",
      "Epoch:17\tTime:40.01\tTrain Loss:0.04\tTrain Acc:99.94\tTest Acc68.05\n",
      "Epoch:18\tTime:39.21\tTrain Loss:0.04\tTrain Acc:99.94\tTest Acc68.32\n",
      "Epoch:19\tTime:43.63\tTrain Loss:0.03\tTrain Acc:99.94\tTest Acc69.15\n",
      "Epoch:20\tTime:43.15\tTrain Loss:0.03\tTrain Acc:99.94\tTest Acc68.45\n",
      "Epoch:21\tTime:42.66\tTrain Loss:0.03\tTrain Acc:99.95\tTest Acc69.28\n",
      "Epoch:22\tTime:43.18\tTrain Loss:0.03\tTrain Acc:99.95\tTest Acc69.38\n",
      "Epoch:23\tTime:42.86\tTrain Loss:0.02\tTrain Acc:99.96\tTest Acc69.25\n",
      "Epoch:24\tTime:43.56\tTrain Loss:0.02\tTrain Acc:99.97\tTest Acc69.38\n",
      "Epoch:25\tTime:43.37\tTrain Loss:0.02\tTrain Acc:99.96\tTest Acc69.15\n",
      "Epoch:26\tTime:43.26\tTrain Loss:0.02\tTrain Acc:99.97\tTest Acc69.22\n",
      "Epoch:27\tTime:43.58\tTrain Loss:0.02\tTrain Acc:99.96\tTest Acc69.65\n",
      "Epoch:28\tTime:42.13\tTrain Loss:0.02\tTrain Acc:99.96\tTest Acc69.28\n",
      "Epoch:29\tTime:42.72\tTrain Loss:0.02\tTrain Acc:99.98\tTest Acc69.48\n"
     ]
    }
   ],
   "source": [
    "trainer.train()"
   ]
  },
  {
   "cell_type": "code",
   "execution_count": null,
   "metadata": {},
   "outputs": [],
   "source": []
  }
 ],
 "metadata": {
  "kernelspec": {
   "display_name": "torch-gpu",
   "language": "python",
   "name": "python3"
  },
  "language_info": {
   "codemirror_mode": {
    "name": "ipython",
    "version": 3
   },
   "file_extension": ".py",
   "mimetype": "text/x-python",
   "name": "python",
   "nbconvert_exporter": "python",
   "pygments_lexer": "ipython3",
   "version": "3.10.13"
  }
 },
 "nbformat": 4,
 "nbformat_minor": 2
}
