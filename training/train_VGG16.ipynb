{
 "cells": [
  {
   "cell_type": "code",
   "execution_count": 1,
   "metadata": {},
   "outputs": [
    {
     "name": "stderr",
     "output_type": "stream",
     "text": [
      "2023-11-15 15:01:12.386606: I tensorflow/core/platform/cpu_feature_guard.cc:182] This TensorFlow binary is optimized to use available CPU instructions in performance-critical operations.\n",
      "To enable the following instructions: SSE4.1 SSE4.2 AVX AVX2 FMA, in other operations, rebuild TensorFlow with the appropriate compiler flags.\n"
     ]
    }
   ],
   "source": [
    "from utils.trainer import Trainer"
   ]
  },
  {
   "cell_type": "code",
   "execution_count": 2,
   "metadata": {},
   "outputs": [
    {
     "name": "stdout",
     "output_type": "stream",
     "text": [
      "{'name': 'mnist', 'model_name': 'VGG16', 'gray': True, 'torch': True, 'num_classes': 10, 'local': False}\n",
      "----------------Loading datasets-----------------\n",
      "Dataset MNIST\n",
      "    Number of datapoints: 60000\n",
      "    Root location: ../datasets/mnist\n",
      "    Split: Train\n",
      "    StandardTransform\n",
      "Transform: Compose(\n",
      "               Grayscale(num_output_channels=3)\n",
      "               ToTensor()\n",
      "               Resize(size=(64, 64), interpolation=bilinear, max_size=None, antialias=warn)\n",
      "               Normalize(mean=[0.5, 0.5, 0.5], std=[0.5, 0.5, 0.5])\n",
      "           )\n",
      "---------------Loading dataloader----------------\n",
      "DataLoader initialized\n",
      "DataLoader initialized\n"
     ]
    },
    {
     "name": "stderr",
     "output_type": "stream",
     "text": [
      "/home/bot/.local/lib/python3.10/site-packages/torchvision/models/_utils.py:208: UserWarning: The parameter 'pretrained' is deprecated since 0.13 and may be removed in the future, please use 'weights' instead.\n",
      "  warnings.warn(\n",
      "/home/bot/.local/lib/python3.10/site-packages/torchvision/models/_utils.py:223: UserWarning: Arguments other than a weight enum or `None` for 'weights' are deprecated since 0.13 and may be removed in the future. The current behavior is equivalent to passing `weights=None`.\n",
      "  warnings.warn(msg)\n"
     ]
    },
    {
     "name": "stdout",
     "output_type": "stream",
     "text": [
      "Draw Graph in Tensorboard\n"
     ]
    },
    {
     "name": "stderr",
     "output_type": "stream",
     "text": [
      "/home/bot/.local/lib/python3.10/site-packages/torchvision/transforms/functional.py:1603: UserWarning: The default value of the antialias parameter of all the resizing transforms (Resize(), RandomResizedCrop(), etc.) will change from None to True in v0.17, in order to be consistent across the PIL and Tensor backends. To suppress this warning, directly pass antialias=True (recommended, future default), antialias=None (current default, which means False for Tensors and True for PIL), or antialias=False (only works on Tensors - PIL will still use antialiasing). This also applies if you are using the inference transforms from the models weights: update the call to weights.transforms(antialias=True).\n",
      "  warnings.warn(\n",
      "/home/bot/.local/lib/python3.10/site-packages/torch/jit/_trace.py:1065: TracerWarning: Encountering a list at the output of the tracer might cause the trace to be incorrect, this is only valid if the container structure does not change based on the module's inputs. Consider using a constant container instead (e.g. for `list`, use a `tuple` instead. for `dict`, use a `NamedTuple` instead). If you absolutely need this and know the side effects, pass strict=False to trace() to allow this behavior.\n",
      "  module._c._create_method_from_trace(\n"
     ]
    }
   ],
   "source": [
    "trainer = Trainer(dataset=\"mnist\", mode=\"nn\")"
   ]
  },
  {
   "cell_type": "code",
   "execution_count": 3,
   "metadata": {},
   "outputs": [
    {
     "name": "stdout",
     "output_type": "stream",
     "text": [
      "Training-Process started!\n",
      "Epoch:0\tTime:78.84\tTrain Loss:0.09\tTrain Acc:97.38\tTest Acc98.69\n",
      "Epoch:1\tTime:77.98\tTrain Loss:0.03\tTrain Acc:99.17\tTest Acc99.20\n",
      "Epoch:2\tTime:78.02\tTrain Loss:0.01\tTrain Acc:99.58\tTest Acc99.36\n",
      "Epoch:3\tTime:77.85\tTrain Loss:0.01\tTrain Acc:99.78\tTest Acc99.35\n",
      "Epoch:4\tTime:70.97\tTrain Loss:0.00\tTrain Acc:99.86\tTest Acc99.33\n",
      "Epoch:5\tTime:70.39\tTrain Loss:0.00\tTrain Acc:99.94\tTest Acc99.39\n",
      "Epoch:6\tTime:70.46\tTrain Loss:0.00\tTrain Acc:99.98\tTest Acc99.41\n",
      "Epoch:7\tTime:70.07\tTrain Loss:0.00\tTrain Acc:100.00\tTest Acc99.49\n",
      "Epoch:8\tTime:70.01\tTrain Loss:0.00\tTrain Acc:100.00\tTest Acc99.45\n",
      "Epoch:9\tTime:70.14\tTrain Loss:0.00\tTrain Acc:100.00\tTest Acc99.48\n",
      "Epoch:10\tTime:70.37\tTrain Loss:0.00\tTrain Acc:100.00\tTest Acc99.47\n",
      "Epoch:11\tTime:70.50\tTrain Loss:0.00\tTrain Acc:100.00\tTest Acc99.47\n",
      "Epoch:12\tTime:70.92\tTrain Loss:0.00\tTrain Acc:100.00\tTest Acc99.43\n",
      "Epoch:13\tTime:70.46\tTrain Loss:0.00\tTrain Acc:100.00\tTest Acc99.48\n",
      "Epoch:14\tTime:70.80\tTrain Loss:0.00\tTrain Acc:100.00\tTest Acc99.49\n",
      "Epoch:15\tTime:70.77\tTrain Loss:0.00\tTrain Acc:100.00\tTest Acc99.54\n",
      "Epoch:16\tTime:70.80\tTrain Loss:0.00\tTrain Acc:100.00\tTest Acc99.45\n",
      "Epoch:17\tTime:70.98\tTrain Loss:0.00\tTrain Acc:100.00\tTest Acc99.51\n",
      "Epoch:18\tTime:70.80\tTrain Loss:0.00\tTrain Acc:100.00\tTest Acc99.49\n",
      "Epoch:19\tTime:70.96\tTrain Loss:0.00\tTrain Acc:100.00\tTest Acc99.46\n"
     ]
    }
   ],
   "source": [
    "trainer.train()"
   ]
  },
  {
   "cell_type": "code",
   "execution_count": null,
   "metadata": {},
   "outputs": [],
   "source": []
  }
 ],
 "metadata": {
  "kernelspec": {
   "display_name": "torch-gpu",
   "language": "python",
   "name": "python3"
  },
  "language_info": {
   "codemirror_mode": {
    "name": "ipython",
    "version": 3
   },
   "file_extension": ".py",
   "mimetype": "text/x-python",
   "name": "python",
   "nbconvert_exporter": "python",
   "pygments_lexer": "ipython3",
   "version": "3.10.13"
  }
 },
 "nbformat": 4,
 "nbformat_minor": 2
}
